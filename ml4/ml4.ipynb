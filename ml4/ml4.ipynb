{
 "cells": [
  {
   "cell_type": "code",
   "execution_count": 1,
   "metadata": {},
   "outputs": [],
   "source": [
    "import numpy as np\n",
    "import pandas as pd\n",
    "pd.set_option('display.max.rows', 1000)\n",
    "import seaborn as sns\n",
    "import matplotlib.pyplot as plt\n",
    "%matplotlib inline \n",
    "sns.set(style='ticks')"
   ]
  },
  {
   "cell_type": "markdown",
   "metadata": {},
   "source": [
    "### Подготовка датасета"
   ]
  },
  {
   "cell_type": "code",
   "execution_count": 2,
   "metadata": {},
   "outputs": [
    {
     "data": {
      "text/plain": [
       "(1599, 12)"
      ]
     },
     "execution_count": 2,
     "metadata": {},
     "output_type": "execute_result"
    }
   ],
   "source": [
    "# Red Wine Quality\n",
    "# Simple and clean practice dataset for regression or classification modelling\n",
    "data = pd.read_csv('data/winequality-red.csv')\n",
    "data.shape"
   ]
  },
  {
   "cell_type": "code",
   "execution_count": 3,
   "metadata": {},
   "outputs": [
    {
     "data": {
      "text/plain": [
       "fixed acidity           0\n",
       "volatile acidity        0\n",
       "citric acid             0\n",
       "residual sugar          0\n",
       "chlorides               0\n",
       "free sulfur dioxide     0\n",
       "total sulfur dioxide    0\n",
       "density                 0\n",
       "pH                      0\n",
       "sulphates               0\n",
       "alcohol                 0\n",
       "quality                 0\n",
       "dtype: int64"
      ]
     },
     "execution_count": 3,
     "metadata": {},
     "output_type": "execute_result"
    }
   ],
   "source": [
    "data.isnull().sum()"
   ]
  },
  {
   "cell_type": "code",
   "execution_count": 4,
   "metadata": {},
   "outputs": [
    {
     "data": {
      "text/plain": [
       "fixed acidity           float64\n",
       "volatile acidity        float64\n",
       "citric acid             float64\n",
       "residual sugar          float64\n",
       "chlorides               float64\n",
       "free sulfur dioxide     float64\n",
       "total sulfur dioxide    float64\n",
       "density                 float64\n",
       "pH                      float64\n",
       "sulphates               float64\n",
       "alcohol                 float64\n",
       "quality                   int64\n",
       "dtype: object"
      ]
     },
     "execution_count": 4,
     "metadata": {},
     "output_type": "execute_result"
    }
   ],
   "source": [
    "data.dtypes"
   ]
  },
  {
   "cell_type": "code",
   "execution_count": 5,
   "metadata": {},
   "outputs": [],
   "source": [
    "# пропусков нет, разделим на обучающую и тестовую выборку\n",
    "from sklearn.model_selection import train_test_split"
   ]
  },
  {
   "cell_type": "code",
   "execution_count": 6,
   "metadata": {},
   "outputs": [],
   "source": [
    "# перед этим разделим исходный датасет на 2: один содержит независимые параметры, другой – зависимый (quality)\n",
    "X, y = data[data.columns[range(11)]], data[data.columns[[11]]]"
   ]
  },
  {
   "cell_type": "code",
   "execution_count": 7,
   "metadata": {},
   "outputs": [
    {
     "data": {
      "text/plain": [
       "fixed acidity           float64\n",
       "volatile acidity        float64\n",
       "citric acid             float64\n",
       "residual sugar          float64\n",
       "chlorides               float64\n",
       "free sulfur dioxide     float64\n",
       "total sulfur dioxide    float64\n",
       "density                 float64\n",
       "pH                      float64\n",
       "sulphates               float64\n",
       "alcohol                 float64\n",
       "dtype: object"
      ]
     },
     "execution_count": 7,
     "metadata": {},
     "output_type": "execute_result"
    }
   ],
   "source": [
    "X.dtypes"
   ]
  },
  {
   "cell_type": "code",
   "execution_count": 8,
   "metadata": {},
   "outputs": [
    {
     "data": {
      "text/plain": [
       "quality    int64\n",
       "dtype: object"
      ]
     },
     "execution_count": 8,
     "metadata": {},
     "output_type": "execute_result"
    }
   ],
   "source": [
    "y.dtypes"
   ]
  },
  {
   "cell_type": "code",
   "execution_count": 9,
   "metadata": {},
   "outputs": [
    {
     "data": {
      "text/plain": [
       "(1279, 320, 1279, 320)"
      ]
     },
     "execution_count": 9,
     "metadata": {},
     "output_type": "execute_result"
    }
   ],
   "source": [
    "test_size = 0.2\n",
    "state = 42\n",
    "xTrain, xTest, yTrain, yTest = train_test_split(X, y, test_size=test_size, random_state=state)\n",
    "len(xTrain), len(xTest), len(yTrain), len(yTest)"
   ]
  },
  {
   "cell_type": "markdown",
   "metadata": {},
   "source": [
    "### Обучение модели на произвольном гиперпараметре K"
   ]
  },
  {
   "cell_type": "code",
   "execution_count": 10,
   "metadata": {},
   "outputs": [
    {
     "name": "stdout",
     "output_type": "stream",
     "text": [
      "Кол-во классов: 6\n"
     ]
    }
   ],
   "source": [
    "# quality имеет целочисленные значения от 0 до 10 включительно (на самом деле 6). Используем Classifier\n",
    "from sklearn.neighbors import KNeighborsClassifier\n",
    "print('Кол-во классов:', len(data['quality'].unique()))"
   ]
  },
  {
   "cell_type": "code",
   "execution_count": 11,
   "metadata": {},
   "outputs": [
    {
     "data": {
      "text/plain": [
       "KNeighborsClassifier(algorithm='auto', leaf_size=30, metric='minkowski',\n",
       "           metric_params=None, n_jobs=None, n_neighbors=3, p=2,\n",
       "           weights='uniform')"
      ]
     },
     "execution_count": 11,
     "metadata": {},
     "output_type": "execute_result"
    }
   ],
   "source": [
    "# обучим модель для произвольно заданного гиперпараметра K\n",
    "K_value = 3\n",
    "KNeighborsClassifierObj = KNeighborsClassifier(n_neighbors=K_value)\n",
    "KNeighborsClassifierObj.fit(xTrain, yTrain.values.ravel())"
   ]
  },
  {
   "cell_type": "code",
   "execution_count": 12,
   "metadata": {},
   "outputs": [
    {
     "data": {
      "text/plain": [
       "array([6, 5, 6, 5, 6, 5, 5, 5, 6, 6, 8, 5, 6, 6, 6, 7, 6, 5, 7, 5, 4, 5,\n",
       "       5, 5, 5, 5, 7, 5, 5, 6, 5, 5, 5, 6, 5, 5, 6, 6, 6, 5, 6, 5, 6, 5,\n",
       "       6, 6, 6, 6, 5, 4, 5, 5, 5, 7, 4, 6, 6, 7, 6, 5, 5, 8, 6, 5, 6, 6,\n",
       "       7, 5, 5, 5, 5, 5, 6, 5, 6, 5, 5, 5, 5, 5, 5, 7, 5, 5, 6, 5, 5, 6,\n",
       "       6, 4, 5, 5, 5, 6, 5, 6, 5, 4, 5, 5, 5, 5, 6, 7, 6, 6, 6, 6, 5, 5,\n",
       "       6, 5, 7, 5, 6, 6, 5, 5, 5, 7, 5, 6, 7, 5, 5, 6, 6, 6, 5, 6, 6, 6,\n",
       "       5, 7, 4, 5, 6, 6, 4, 6, 5, 5, 7, 6, 6, 5, 6, 7, 5, 5, 6, 6, 5, 5,\n",
       "       6, 6, 5, 4, 6, 5, 7, 5, 5, 5, 6, 6, 6, 5, 5, 5, 6, 5, 7, 6, 5, 5,\n",
       "       4, 4, 5, 7, 6, 5, 5, 6, 5, 5, 6, 6, 7, 6, 6, 6, 6, 7, 4, 5, 6, 5,\n",
       "       3, 6, 5, 5, 5, 6, 7, 6, 5, 5, 4, 5, 7, 5, 6, 7, 6, 5, 5, 6, 5, 5,\n",
       "       6, 5, 6, 6, 6, 6, 5, 6, 5, 5, 5, 5, 7, 4, 5, 6, 5, 6, 5, 5, 7, 5,\n",
       "       5, 5, 6, 7, 5, 5, 7, 5, 6, 5, 5, 6, 6, 5, 6, 6, 8, 6, 6, 6, 4, 7,\n",
       "       6, 6, 5, 5, 6, 6, 6, 4, 6, 6, 5, 5, 6, 7, 5, 6, 5, 6, 5, 5, 5, 6,\n",
       "       5, 5, 6, 6, 5, 6, 5, 6, 5, 5, 5, 6, 5, 5, 5, 5, 6, 7, 5, 5, 6, 4,\n",
       "       6, 7, 5, 5, 5, 5, 6, 6, 5, 5, 5, 6])"
      ]
     },
     "execution_count": 12,
     "metadata": {},
     "output_type": "execute_result"
    }
   ],
   "source": [
    "yPredictedTest = KNeighborsClassifierObj.predict(xTest)\n",
    "yPredictedTest"
   ]
  },
  {
   "cell_type": "code",
   "execution_count": 13,
   "metadata": {},
   "outputs": [
    {
     "data": {
      "text/plain": [
       "array([6, 5, 6, ..., 5, 6, 7])"
      ]
     },
     "execution_count": 13,
     "metadata": {},
     "output_type": "execute_result"
    }
   ],
   "source": [
    "yPredictedTrain = KNeighborsClassifierObj.predict(xTrain)\n",
    "yPredictedTrain"
   ]
  },
  {
   "cell_type": "code",
   "execution_count": 14,
   "metadata": {},
   "outputs": [
    {
     "data": {
      "text/plain": [
       "array([6, 5, 6, 5, 6, 5, 5, 5, 5, 6, 7, 3, 5, 5, 6, 7, 5, 7, 8, 5, 5, 6,\n",
       "       5, 6, 6, 6, 7, 6, 5, 6, 5, 5, 6, 5, 6, 5, 7, 5, 4, 6, 5, 5, 7, 5,\n",
       "       5, 6, 7, 6, 5, 6, 5, 5, 5, 7, 6, 6, 6, 5, 5, 5, 5, 7, 5, 6, 6, 5,\n",
       "       6, 5, 6, 5, 6, 4, 6, 6, 6, 5, 8, 5, 6, 6, 5, 6, 5, 6, 6, 7, 5, 6,\n",
       "       7, 4, 7, 6, 5, 5, 5, 6, 5, 6, 5, 6, 5, 5, 5, 7, 6, 7, 6, 5, 6, 5,\n",
       "       8, 5, 6, 5, 6, 7, 6, 6, 5, 6, 6, 6, 6, 6, 6, 6, 7, 6, 5, 5, 6, 5,\n",
       "       5, 5, 6, 5, 5, 5, 5, 6, 7, 6, 8, 5, 5, 5, 6, 6, 6, 5, 6, 7, 6, 5,\n",
       "       6, 5, 5, 6, 6, 6, 7, 5, 7, 5, 5, 5, 6, 6, 5, 5, 6, 5, 7, 6, 7, 6,\n",
       "       6, 5, 5, 6, 4, 6, 5, 7, 5, 5, 4, 5, 7, 6, 5, 6, 6, 7, 6, 5, 5, 6,\n",
       "       5, 7, 5, 6, 6, 5, 7, 5, 5, 5, 6, 7, 7, 5, 5, 6, 6, 7, 6, 5, 6, 6,\n",
       "       6, 6, 6, 7, 4, 5, 5, 7, 5, 5, 5, 5, 6, 6, 5, 7, 5, 6, 6, 6, 5, 4,\n",
       "       6, 7, 6, 7, 5, 6, 6, 5, 5, 6, 5, 6, 4, 5, 6, 6, 5, 6, 6, 5, 5, 6,\n",
       "       7, 7, 6, 5, 6, 6, 5, 6, 5, 6, 5, 5, 5, 6, 6, 6, 7, 5, 5, 6, 5, 7,\n",
       "       5, 6, 4, 6, 6, 8, 6, 5, 5, 6, 5, 7, 6, 6, 5, 5, 7, 6, 6, 5, 6, 6,\n",
       "       5, 7, 6, 6, 6, 6, 5, 6, 5, 5, 6, 4])"
      ]
     },
     "execution_count": 14,
     "metadata": {},
     "output_type": "execute_result"
    }
   ],
   "source": [
    "yTest['quality'].values"
   ]
  },
  {
   "cell_type": "code",
   "execution_count": 15,
   "metadata": {},
   "outputs": [
    {
     "name": "stdout",
     "output_type": "stream",
     "text": [
      "Accuracy (train): 74.12040656763097 %\n",
      "Accuracy (test): 45.3125 %\n"
     ]
    }
   ],
   "source": [
    "# оценим качество модели классификации\n",
    "from sklearn.metrics import accuracy_score, confusion_matrix, precision_score, f1_score\n",
    "\n",
    "print('Accuracy (train): {} %'.format(accuracy_score(yTrain, yPredictedTrain) * 100))\n",
    "print('Accuracy (test): {} %'.format(accuracy_score(yTest, yPredictedTest) * 100))"
   ]
  },
  {
   "cell_type": "code",
   "execution_count": 16,
   "metadata": {},
   "outputs": [
    {
     "name": "stdout",
     "output_type": "stream",
     "text": [
      "Матрица ошибок: столбцы – предсказанное значение, строки – истинное значение\n",
      "Train\n",
      " [[  8   0   1   0   0   0]\n",
      " [  3  15  16   8   1   0]\n",
      " [  0  14 464  70   3   0]\n",
      " [  1  12 109 366  17   1]\n",
      " [  1   5  27  30  93   1]\n",
      " [  0   1   4   4   2   2]]\n",
      "Test\n",
      " [[ 0  0  1  0  0  0]\n",
      " [ 0  1  2  7  0  0]\n",
      " [ 1  4 81 40  3  1]\n",
      " [ 0 11 57 51 13  0]\n",
      " [ 0  0 10 18 12  2]\n",
      " [ 0  0  1  2  2  0]]\n"
     ]
    }
   ],
   "source": [
    "print('Матрица ошибок: столбцы – предсказанное значение, строки – истинное значение')\n",
    "print('Train\\n', confusion_matrix(yTrain, yPredictedTrain))\n",
    "print('Test\\n', confusion_matrix(yTest, yPredictedTest))"
   ]
  },
  {
   "cell_type": "code",
   "execution_count": 17,
   "metadata": {},
   "outputs": [
    {
     "name": "stdout",
     "output_type": "stream",
     "text": [
      "Train\n",
      " 0.7433691543962138\n",
      "Test\n",
      " 0.44922551014719003\n"
     ]
    }
   ],
   "source": [
    "print('Train\\n', precision_score(yTrain, yPredictedTrain, average='weighted'))\n",
    "print('Test\\n', precision_score(yTest, yPredictedTest, average='weighted'))"
   ]
  },
  {
   "cell_type": "code",
   "execution_count": 18,
   "metadata": {},
   "outputs": [
    {
     "name": "stdout",
     "output_type": "stream",
     "text": [
      "Train\n",
      " 0.7377685441292957\n",
      "Test\n",
      " 0.4478315057283142\n"
     ]
    }
   ],
   "source": [
    "print('Train\\n', f1_score(yTrain, yPredictedTrain, average='weighted'))\n",
    "print('Test\\n', f1_score(yTest, yPredictedTest, average='weighted'))"
   ]
  },
  {
   "cell_type": "markdown",
   "metadata": {},
   "source": [
    "качество оставляет желать лучшего"
   ]
  },
  {
   "cell_type": "markdown",
   "metadata": {},
   "source": [
    "### Оценим качество с использованием *кросс-валидации*"
   ]
  },
  {
   "cell_type": "code",
   "execution_count": 19,
   "metadata": {},
   "outputs": [
    {
     "data": {
      "text/plain": [
       "array([0.4635514 , 0.42401501, 0.38229755])"
      ]
     },
     "execution_count": 19,
     "metadata": {},
     "output_type": "execute_result"
    }
   ],
   "source": [
    "from sklearn.model_selection import cross_val_score, cross_validate\n",
    "# автоматически выбирается стратегия\n",
    "scores = cross_val_score(KNeighborsClassifierObj, X, y.values.ravel(), cv=3)  # 3 фолда\n",
    "scores  # accuracy by default"
   ]
  },
  {
   "cell_type": "code",
   "execution_count": 20,
   "metadata": {},
   "outputs": [
    {
     "data": {
      "text/plain": [
       "0.4232879876796997"
      ]
     },
     "execution_count": 20,
     "metadata": {},
     "output_type": "execute_result"
    }
   ],
   "source": [
    "np.mean(scores)"
   ]
  },
  {
   "cell_type": "code",
   "execution_count": 21,
   "metadata": {},
   "outputs": [
    {
     "name": "stderr",
     "output_type": "stream",
     "text": [
      "/Users/artyom.andreev/Study/.venv/lib/python3.7/site-packages/sklearn/metrics/classification.py:1143: UndefinedMetricWarning: Precision is ill-defined and being set to 0.0 in labels with no predicted samples.\n",
      "  'precision', 'predicted', average, warn_for)\n",
      "/Users/artyom.andreev/Study/.venv/lib/python3.7/site-packages/sklearn/metrics/classification.py:1143: UndefinedMetricWarning: F-score is ill-defined and being set to 0.0 in labels with no predicted samples.\n",
      "  'precision', 'predicted', average, warn_for)\n",
      "/Users/artyom.andreev/Study/.venv/lib/python3.7/site-packages/sklearn/metrics/classification.py:1143: UndefinedMetricWarning: Precision is ill-defined and being set to 0.0 in labels with no predicted samples.\n",
      "  'precision', 'predicted', average, warn_for)\n",
      "/Users/artyom.andreev/Study/.venv/lib/python3.7/site-packages/sklearn/metrics/classification.py:1143: UndefinedMetricWarning: F-score is ill-defined and being set to 0.0 in labels with no predicted samples.\n",
      "  'precision', 'predicted', average, warn_for)\n"
     ]
    },
    {
     "data": {
      "text/plain": [
       "{'fit_time': array([0.00234604, 0.00160694, 0.00212288]),\n",
       " 'score_time': array([0.05179119, 0.04728293, 0.04403687]),\n",
       " 'test_precision': array([0.45371836, 0.41355857, 0.38212618]),\n",
       " 'train_precision': array([0.75838617, 0.73362752, 0.76695829]),\n",
       " 'test_recall': array([0.4635514 , 0.42401501, 0.38229755]),\n",
       " 'train_recall': array([0.75657895, 0.74202627, 0.76872659]),\n",
       " 'test_f1': array([0.44416531, 0.41751315, 0.37968412]),\n",
       " 'train_f1': array([0.75435552, 0.73580897, 0.76481946])}"
      ]
     },
     "execution_count": 21,
     "metadata": {},
     "output_type": "execute_result"
    }
   ],
   "source": [
    "scoring = {'precision': 'precision_weighted', \n",
    "           'recall': 'recall_weighted',\n",
    "           'f1': 'f1_weighted'}\n",
    "scores = cross_validate(KNeighborsClassifierObj, X, y.values.ravel(), scoring=scoring, cv=3, return_train_score=True)\n",
    "scores"
   ]
  },
  {
   "cell_type": "code",
   "execution_count": 22,
   "metadata": {},
   "outputs": [],
   "source": [
    "# Попробуем различные стратегии кросс-валидации"
   ]
  },
  {
   "cell_type": "code",
   "execution_count": 23,
   "metadata": {},
   "outputs": [
    {
     "data": {
      "text/plain": [
       "array([0.57462687, 0.51492537, 0.41791045, 0.47368421, 0.45112782,\n",
       "       0.56390977, 0.36090226, 0.27819549, 0.38345865, 0.31578947,\n",
       "       0.36842105, 0.4962406 ])"
      ]
     },
     "execution_count": 23,
     "metadata": {},
     "output_type": "execute_result"
    }
   ],
   "source": [
    "# 1) K-fold\n",
    "from sklearn.model_selection import KFold\n",
    "scores = cross_val_score(KNeighborsClassifierObj, X, y.values.ravel(), cv=KFold(n_splits=12))\n",
    "scores"
   ]
  },
  {
   "cell_type": "code",
   "execution_count": 24,
   "metadata": {},
   "outputs": [
    {
     "data": {
      "text/plain": [
       "0.4332660008229529"
      ]
     },
     "execution_count": 24,
     "metadata": {},
     "output_type": "execute_result"
    }
   ],
   "source": [
    "np.mean(scores)"
   ]
  },
  {
   "cell_type": "code",
   "execution_count": 25,
   "metadata": {},
   "outputs": [
    {
     "data": {
      "text/plain": [
       "{'fit_time': array([0.00311399, 0.00163817, 0.00166607, 0.0016489 , 0.00195003,\n",
       "        0.00162411, 0.00163603, 0.00163603, 0.00167012, 0.00169396,\n",
       "        0.00176001, 0.00165486]),\n",
       " 'score_time': array([0.01807165, 0.01277804, 0.01297998, 0.02003312, 0.01504779,\n",
       "        0.01295805, 0.01273513, 0.01311803, 0.01537585, 0.01284575,\n",
       "        0.01283503, 0.01267815]),\n",
       " 'test_precision': array([0.54795758, 0.45864117, 0.44446117, 0.46288116, 0.46474052,\n",
       "        0.57842938, 0.36485284, 0.33095317, 0.43917689, 0.30308986,\n",
       "        0.36386895, 0.51856484]),\n",
       " 'train_precision': array([0.75888839, 0.74756499, 0.75879577, 0.74220849, 0.74908284,\n",
       "        0.74108407, 0.76002248, 0.75521553, 0.7492982 , 0.75575271,\n",
       "        0.75141529, 0.75360119]),\n",
       " 'test_recall': array([0.57462687, 0.51492537, 0.41791045, 0.47368421, 0.45112782,\n",
       "        0.56390977, 0.36090226, 0.27819549, 0.38345865, 0.31578947,\n",
       "        0.36842105, 0.4962406 ]),\n",
       " 'train_recall': array([0.75972696, 0.74880546, 0.76109215, 0.74829468, 0.75102319,\n",
       "        0.74351978, 0.7633015 , 0.75579809, 0.75102319, 0.75716235,\n",
       "        0.75306958, 0.75648022]),\n",
       " 'test_f1': array([0.56085392, 0.47780696, 0.42727506, 0.46691705, 0.45773251,\n",
       "        0.56945078, 0.34749188, 0.28744032, 0.39043245, 0.3060682 ,\n",
       "        0.36398584, 0.50176834]),\n",
       " 'train_f1': array([0.75614053, 0.74510228, 0.75676104, 0.74282655, 0.74680767,\n",
       "        0.73865275, 0.75896004, 0.75132209, 0.74709044, 0.75328954,\n",
       "        0.74868941, 0.7516    ])}"
      ]
     },
     "execution_count": 25,
     "metadata": {},
     "output_type": "execute_result"
    }
   ],
   "source": [
    "import warnings\n",
    "warnings.filterwarnings(\"ignore\")\n",
    "scoring = {'precision': 'precision_weighted', \n",
    "           'recall': 'recall_weighted',\n",
    "           'f1': 'f1_weighted'}\n",
    "scores = cross_validate(KNeighborsClassifierObj, X, y.values.ravel(), scoring=scoring, cv=KFold(n_splits=12), return_train_score=True)\n",
    "scores"
   ]
  },
  {
   "cell_type": "code",
   "execution_count": 26,
   "metadata": {},
   "outputs": [
    {
     "data": {
      "text/plain": [
       "array([0.48125 , 0.484375, 0.496875, 0.50625 , 0.5375  , 0.496875,\n",
       "       0.475   , 0.5375  , 0.5     , 0.490625, 0.5125  , 0.45625 ])"
      ]
     },
     "execution_count": 26,
     "metadata": {},
     "output_type": "execute_result"
    }
   ],
   "source": [
    "# 2) ShuffleSplit\n",
    "from sklearn.model_selection import ShuffleSplit\n",
    "scores = cross_val_score(KNeighborsClassifierObj, X, y.values.ravel(), cv=ShuffleSplit(n_splits=12, test_size=0.2))\n",
    "scores"
   ]
  },
  {
   "cell_type": "code",
   "execution_count": 27,
   "metadata": {},
   "outputs": [
    {
     "data": {
      "text/plain": [
       "0.4979166666666666"
      ]
     },
     "execution_count": 27,
     "metadata": {},
     "output_type": "execute_result"
    }
   ],
   "source": [
    "np.mean(scores)"
   ]
  },
  {
   "cell_type": "code",
   "execution_count": 28,
   "metadata": {},
   "outputs": [
    {
     "data": {
      "text/plain": [
       "{'fit_time': array([0.00483608, 0.00173998, 0.00169802, 0.00152802, 0.00154281,\n",
       "        0.00161099, 0.00154805, 0.00161314, 0.00155735, 0.00182295,\n",
       "        0.00151014, 0.00193   ]),\n",
       " 'score_time': array([0.03395581, 0.02847791, 0.02867103, 0.02507496, 0.025419  ,\n",
       "        0.02515411, 0.02548289, 0.02572799, 0.02603269, 0.02527618,\n",
       "        0.02530003, 0.03058004]),\n",
       " 'test_precision': array([0.50027396, 0.48993412, 0.53625678, 0.46816591, 0.50789372,\n",
       "        0.48495138, 0.53453958, 0.49157191, 0.51932948, 0.48270354,\n",
       "        0.50674642, 0.44517754]),\n",
       " 'train_precision': array([0.73477805, 0.73502993, 0.74046874, 0.73166586, 0.75345453,\n",
       "        0.75179927, 0.73666561, 0.74540789, 0.7364081 , 0.72409601,\n",
       "        0.74274148, 0.74512196]),\n",
       " 'test_recall': array([0.5     , 0.496875, 0.528125, 0.471875, 0.503125, 0.49375 ,\n",
       "        0.5375  , 0.503125, 0.525   , 0.503125, 0.496875, 0.459375]),\n",
       " 'train_recall': array([0.7404222 , 0.73807662, 0.73338546, 0.7365129 , 0.74902267,\n",
       "        0.74980453, 0.73416732, 0.74354965, 0.73729476, 0.73025801,\n",
       "        0.73885848, 0.74745895]),\n",
       " 'test_f1': array([0.49572049, 0.49330035, 0.53013501, 0.45797217, 0.50152362,\n",
       "        0.48859339, 0.52915093, 0.49484982, 0.5179659 , 0.48987322,\n",
       "        0.49705098, 0.44602371]),\n",
       " 'train_f1': array([0.73440278, 0.73419772, 0.73000969, 0.73164122, 0.74789842,\n",
       "        0.74779044, 0.73053053, 0.74067687, 0.73429997, 0.72509098,\n",
       "        0.73595374, 0.74346027])}"
      ]
     },
     "execution_count": 28,
     "metadata": {},
     "output_type": "execute_result"
    }
   ],
   "source": [
    "scoring = {'precision': 'precision_weighted', \n",
    "           'recall': 'recall_weighted',\n",
    "           'f1': 'f1_weighted'}\n",
    "scores = cross_validate(KNeighborsClassifierObj, X, y.values.ravel(), scoring=scoring, cv=ShuffleSplit(n_splits=12, test_size=0.2), return_train_score=True)\n",
    "scores"
   ]
  },
  {
   "cell_type": "code",
   "execution_count": 29,
   "metadata": {},
   "outputs": [
    {
     "data": {
      "text/plain": [
       "array([0.53731343, 0.59701493, 0.49253731, 0.44360902, 0.52631579,\n",
       "       0.48120301, 0.56390977, 0.47368421, 0.5037594 , 0.60902256,\n",
       "       0.44360902, 0.51879699, 0.53731343, 0.52985075, 0.50746269,\n",
       "       0.5112782 , 0.53383459, 0.42857143, 0.45864662, 0.52631579,\n",
       "       0.56390977, 0.4887218 , 0.56390977, 0.53383459])"
      ]
     },
     "execution_count": 29,
     "metadata": {},
     "output_type": "execute_result"
    }
   ],
   "source": [
    "# 3) RepeatedKFold\n",
    "from sklearn.model_selection import RepeatedKFold\n",
    "scores = cross_val_score(KNeighborsClassifierObj, X, y.values.ravel(), cv=RepeatedKFold(n_splits=12, n_repeats=2))\n",
    "scores"
   ]
  },
  {
   "cell_type": "code",
   "execution_count": 30,
   "metadata": {},
   "outputs": [
    {
     "data": {
      "text/plain": [
       "0.5156010361725208"
      ]
     },
     "execution_count": 30,
     "metadata": {},
     "output_type": "execute_result"
    }
   ],
   "source": [
    "np.mean(scores)"
   ]
  },
  {
   "cell_type": "code",
   "execution_count": 31,
   "metadata": {},
   "outputs": [
    {
     "data": {
      "text/plain": [
       "{'fit_time': array([0.00366402, 0.00231385, 0.00170398, 0.00156426, 0.00163507,\n",
       "        0.00149918, 0.001719  , 0.00172305, 0.00169086, 0.00154781,\n",
       "        0.00151396, 0.00155997, 0.00153923, 0.00152588, 0.00154114,\n",
       "        0.00168681, 0.00154996, 0.00152397, 0.001652  , 0.00163102,\n",
       "        0.00165892, 0.0015099 , 0.00158596, 0.00158691]),\n",
       " 'score_time': array([0.01764894, 0.01748037, 0.0125711 , 0.01268482, 0.01247811,\n",
       "        0.01261473, 0.01392102, 0.01424384, 0.01279306, 0.01244807,\n",
       "        0.01275396, 0.01259232, 0.01287484, 0.01264906, 0.01368499,\n",
       "        0.01262212, 0.01244903, 0.01229215, 0.01441789, 0.01256704,\n",
       "        0.01260018, 0.01313305, 0.01411104, 0.01246119]),\n",
       " 'test_precision': array([0.59021476, 0.50674804, 0.50396235, 0.4761139 , 0.47961535,\n",
       "        0.53571468, 0.5376912 , 0.44268718, 0.5683527 , 0.53032048,\n",
       "        0.55129544, 0.50481781, 0.48771708, 0.50925415, 0.53971808,\n",
       "        0.53585591, 0.51904771, 0.48257422, 0.50786582, 0.48876679,\n",
       "        0.47982167, 0.49292162, 0.57956108, 0.57213148]),\n",
       " 'train_precision': array([0.75393492, 0.7452139 , 0.75226825, 0.74596184, 0.74561895,\n",
       "        0.76135916, 0.74583512, 0.74690259, 0.74933892, 0.74190375,\n",
       "        0.75067427, 0.75778509, 0.75067154, 0.75074637, 0.74840578,\n",
       "        0.75728266, 0.75095983, 0.74679527, 0.74028282, 0.74621629,\n",
       "        0.74865586, 0.7550299 , 0.74886829, 0.73800867]),\n",
       " 'test_recall': array([0.53731343, 0.50746269, 0.5       , 0.46616541, 0.47368421,\n",
       "        0.55639098, 0.54135338, 0.44360902, 0.55639098, 0.53383459,\n",
       "        0.53383459, 0.51879699, 0.49253731, 0.52238806, 0.52238806,\n",
       "        0.53383459, 0.4962406 , 0.4887218 , 0.51879699, 0.51879699,\n",
       "        0.48120301, 0.5037594 , 0.56390977, 0.55639098]),\n",
       " 'train_recall': array([0.75494881, 0.75085324, 0.75290102, 0.74556617, 0.74693042,\n",
       "        0.75716235, 0.74556617, 0.74761255, 0.75170532, 0.74215553,\n",
       "        0.75306958, 0.75511596, 0.75153584, 0.75221843, 0.75017065,\n",
       "        0.75648022, 0.75238745, 0.74693042, 0.74693042, 0.75238745,\n",
       "        0.74829468, 0.7585266 , 0.75034106, 0.73806276]),\n",
       " 'test_f1': array([0.53599349, 0.49833054, 0.49431945, 0.47085686, 0.46513048,\n",
       "        0.53517011, 0.52733707, 0.44215581, 0.55627343, 0.52906589,\n",
       "        0.53059412, 0.50524834, 0.48587007, 0.51362311, 0.52775955,\n",
       "        0.52236987, 0.4980235 , 0.48105271, 0.51143039, 0.5022196 ,\n",
       "        0.4761986 , 0.49427739, 0.56911375, 0.55369479]),\n",
       " 'train_f1': array([0.7501476 , 0.74544578, 0.7485189 , 0.7422911 , 0.74247865,\n",
       "        0.75417334, 0.7417451 , 0.74405862, 0.74652516, 0.73847935,\n",
       "        0.74884735, 0.74955797, 0.74769256, 0.74766462, 0.74564042,\n",
       "        0.75316421, 0.74787142, 0.7423968 , 0.74112355, 0.74687262,\n",
       "        0.74493458, 0.75340032, 0.74539455, 0.73464243])}"
      ]
     },
     "execution_count": 31,
     "metadata": {},
     "output_type": "execute_result"
    }
   ],
   "source": [
    "scoring = {'precision': 'precision_weighted', \n",
    "           'recall': 'recall_weighted',\n",
    "           'f1': 'f1_weighted'}\n",
    "scores = cross_validate(KNeighborsClassifierObj, X, y.values.ravel(), scoring=scoring, cv=RepeatedKFold(n_splits=12, n_repeats=2), return_train_score=True)\n",
    "scores"
   ]
  },
  {
   "cell_type": "markdown",
   "metadata": {},
   "source": [
    "### Подбор гиперпараметра K с использованием GridSearchCV и кросс-валидации"
   ]
  },
  {
   "cell_type": "code",
   "execution_count": 32,
   "metadata": {},
   "outputs": [
    {
     "name": "stdout",
     "output_type": "stream",
     "text": [
      "Fitting 100 folds for each of 50 candidates, totalling 5000 fits\n"
     ]
    },
    {
     "name": "stderr",
     "output_type": "stream",
     "text": [
      "[Parallel(n_jobs=-1)]: Using backend LokyBackend with 8 concurrent workers.\n",
      "[Parallel(n_jobs=-1)]: Done   2 tasks      | elapsed:    1.2s\n",
      "[Parallel(n_jobs=-1)]: Done   9 tasks      | elapsed:    1.3s\n",
      "[Parallel(n_jobs=-1)]: Done  16 tasks      | elapsed:    1.3s\n",
      "[Parallel(n_jobs=-1)]: Done  25 tasks      | elapsed:    1.4s\n",
      "[Parallel(n_jobs=-1)]: Batch computation too fast (0.1972s.) Setting batch_size=2.\n",
      "[Parallel(n_jobs=-1)]: Done  34 tasks      | elapsed:    1.5s\n",
      "[Parallel(n_jobs=-1)]: Done  45 tasks      | elapsed:    1.6s\n",
      "[Parallel(n_jobs=-1)]: Done  65 tasks      | elapsed:    1.9s\n",
      "[Parallel(n_jobs=-1)]: Done  91 tasks      | elapsed:    2.1s\n",
      "[Parallel(n_jobs=-1)]: Done 117 tasks      | elapsed:    2.4s\n",
      "[Parallel(n_jobs=-1)]: Done 147 tasks      | elapsed:    2.8s\n",
      "[Parallel(n_jobs=-1)]: Done 177 tasks      | elapsed:    3.1s\n",
      "[Parallel(n_jobs=-1)]: Done 211 tasks      | elapsed:    3.5s\n",
      "[Parallel(n_jobs=-1)]: Done 245 tasks      | elapsed:    3.9s\n",
      "[Parallel(n_jobs=-1)]: Done 283 tasks      | elapsed:    4.3s\n",
      "[Parallel(n_jobs=-1)]: Done 321 tasks      | elapsed:    4.8s\n",
      "[Parallel(n_jobs=-1)]: Done 363 tasks      | elapsed:    5.3s\n",
      "[Parallel(n_jobs=-1)]: Done 405 tasks      | elapsed:    5.8s\n",
      "[Parallel(n_jobs=-1)]: Done 451 tasks      | elapsed:    6.3s\n",
      "[Parallel(n_jobs=-1)]: Done 497 tasks      | elapsed:    6.8s\n",
      "[Parallel(n_jobs=-1)]: Done 547 tasks      | elapsed:    7.4s\n",
      "[Parallel(n_jobs=-1)]: Done 597 tasks      | elapsed:    7.9s\n",
      "[Parallel(n_jobs=-1)]: Done 651 tasks      | elapsed:    8.6s\n",
      "[Parallel(n_jobs=-1)]: Done 705 tasks      | elapsed:    9.3s\n",
      "[Parallel(n_jobs=-1)]: Done 763 tasks      | elapsed:   10.0s\n",
      "[Parallel(n_jobs=-1)]: Done 821 tasks      | elapsed:   10.7s\n",
      "[Parallel(n_jobs=-1)]: Done 883 tasks      | elapsed:   11.4s\n",
      "[Parallel(n_jobs=-1)]: Done 945 tasks      | elapsed:   12.3s\n",
      "[Parallel(n_jobs=-1)]: Done 1011 tasks      | elapsed:   13.1s\n",
      "[Parallel(n_jobs=-1)]: Done 1077 tasks      | elapsed:   13.9s\n",
      "[Parallel(n_jobs=-1)]: Done 1147 tasks      | elapsed:   14.8s\n",
      "[Parallel(n_jobs=-1)]: Done 1217 tasks      | elapsed:   15.6s\n",
      "[Parallel(n_jobs=-1)]: Done 1291 tasks      | elapsed:   16.5s\n",
      "[Parallel(n_jobs=-1)]: Done 1365 tasks      | elapsed:   17.3s\n",
      "[Parallel(n_jobs=-1)]: Done 1443 tasks      | elapsed:   18.3s\n",
      "[Parallel(n_jobs=-1)]: Done 1521 tasks      | elapsed:   19.2s\n",
      "[Parallel(n_jobs=-1)]: Done 1603 tasks      | elapsed:   20.2s\n",
      "[Parallel(n_jobs=-1)]: Done 1685 tasks      | elapsed:   21.2s\n",
      "[Parallel(n_jobs=-1)]: Done 1771 tasks      | elapsed:   22.4s\n",
      "[Parallel(n_jobs=-1)]: Done 1857 tasks      | elapsed:   23.6s\n",
      "[Parallel(n_jobs=-1)]: Done 1947 tasks      | elapsed:   25.1s\n",
      "[Parallel(n_jobs=-1)]: Done 2037 tasks      | elapsed:   26.4s\n",
      "[Parallel(n_jobs=-1)]: Done 2131 tasks      | elapsed:   27.6s\n",
      "[Parallel(n_jobs=-1)]: Done 2225 tasks      | elapsed:   28.8s\n",
      "[Parallel(n_jobs=-1)]: Done 2323 tasks      | elapsed:   30.2s\n",
      "[Parallel(n_jobs=-1)]: Done 2421 tasks      | elapsed:   31.7s\n",
      "[Parallel(n_jobs=-1)]: Done 2523 tasks      | elapsed:   33.1s\n",
      "[Parallel(n_jobs=-1)]: Done 2625 tasks      | elapsed:   34.6s\n",
      "[Parallel(n_jobs=-1)]: Done 2731 tasks      | elapsed:   36.2s\n",
      "[Parallel(n_jobs=-1)]: Done 2837 tasks      | elapsed:   37.7s\n",
      "[Parallel(n_jobs=-1)]: Done 2947 tasks      | elapsed:   39.2s\n",
      "[Parallel(n_jobs=-1)]: Done 3057 tasks      | elapsed:   40.7s\n",
      "[Parallel(n_jobs=-1)]: Done 3171 tasks      | elapsed:   42.8s\n",
      "[Parallel(n_jobs=-1)]: Done 3285 tasks      | elapsed:   44.7s\n",
      "[Parallel(n_jobs=-1)]: Done 3403 tasks      | elapsed:   46.4s\n",
      "[Parallel(n_jobs=-1)]: Done 3521 tasks      | elapsed:   48.5s\n",
      "[Parallel(n_jobs=-1)]: Done 3643 tasks      | elapsed:   50.2s\n",
      "[Parallel(n_jobs=-1)]: Done 3765 tasks      | elapsed:   52.0s\n",
      "[Parallel(n_jobs=-1)]: Done 3891 tasks      | elapsed:   53.9s\n",
      "[Parallel(n_jobs=-1)]: Done 4017 tasks      | elapsed:   56.3s\n",
      "[Parallel(n_jobs=-1)]: Done 4147 tasks      | elapsed:   58.3s\n",
      "[Parallel(n_jobs=-1)]: Done 4277 tasks      | elapsed:  1.0min\n",
      "[Parallel(n_jobs=-1)]: Done 4411 tasks      | elapsed:  1.0min\n",
      "[Parallel(n_jobs=-1)]: Done 4545 tasks      | elapsed:  1.1min\n",
      "[Parallel(n_jobs=-1)]: Done 4683 tasks      | elapsed:  1.1min\n",
      "[Parallel(n_jobs=-1)]: Done 4821 tasks      | elapsed:  1.1min\n",
      "[Parallel(n_jobs=-1)]: Done 4963 tasks      | elapsed:  1.2min\n",
      "[Parallel(n_jobs=-1)]: Done 4985 out of 5000 | elapsed:  1.2min remaining:    0.2s\n",
      "[Parallel(n_jobs=-1)]: Done 5000 out of 5000 | elapsed:  1.2min finished\n"
     ]
    },
    {
     "data": {
      "text/plain": [
       "GridSearchCV(cv=KFold(n_splits=100, random_state=None, shuffle=False),\n",
       "       error_score='raise-deprecating',\n",
       "       estimator=KNeighborsClassifier(algorithm='auto', leaf_size=30, metric='minkowski',\n",
       "           metric_params=None, n_jobs=None, n_neighbors=5, p=2,\n",
       "           weights='uniform'),\n",
       "       fit_params=None, iid='warn', n_jobs=-1,\n",
       "       param_grid=[{'n_neighbors': array([ 1,  2,  3,  4,  5,  6,  7,  8,  9, 10, 11, 12, 13, 14, 15, 16, 17,\n",
       "       18, 19, 20, 21, 22, 23, 24, 25, 26, 27, 28, 29, 30, 31, 32, 33, 34,\n",
       "       35, 36, 37, 38, 39, 40, 41, 42, 43, 44, 45, 46, 47, 48, 49, 50])}],\n",
       "       pre_dispatch='2*n_jobs', refit=True, return_train_score='warn',\n",
       "       scoring='accuracy', verbose=10)"
      ]
     },
     "execution_count": 32,
     "metadata": {},
     "output_type": "execute_result"
    }
   ],
   "source": [
    "from sklearn.model_selection import GridSearchCV\n",
    "parameters = [{'n_neighbors': np.array(range(1, 51))}]\n",
    "clf_gs = GridSearchCV(KNeighborsClassifier(), parameters, cv=KFold(n_splits=100), scoring='accuracy', \n",
    "                      n_jobs=-1, \n",
    "                      verbose=10\n",
    "                     )\n",
    "clf_gs.fit(X, y.values.ravel())"
   ]
  },
  {
   "cell_type": "code",
   "execution_count": 33,
   "metadata": {},
   "outputs": [
    {
     "data": {
      "text/plain": [
       "KNeighborsClassifier(algorithm='auto', leaf_size=30, metric='minkowski',\n",
       "           metric_params=None, n_jobs=None, n_neighbors=42, p=2,\n",
       "           weights='uniform')"
      ]
     },
     "execution_count": 33,
     "metadata": {},
     "output_type": "execute_result"
    }
   ],
   "source": [
    "clf_gs.best_estimator_"
   ]
  },
  {
   "cell_type": "code",
   "execution_count": 34,
   "metadata": {},
   "outputs": [
    {
     "data": {
      "text/plain": [
       "0.5190744215134458"
      ]
     },
     "execution_count": 34,
     "metadata": {},
     "output_type": "execute_result"
    }
   ],
   "source": [
    "clf_gs.best_score_"
   ]
  },
  {
   "cell_type": "code",
   "execution_count": 35,
   "metadata": {},
   "outputs": [
    {
     "data": {
      "text/plain": [
       "{'n_neighbors': 42}"
      ]
     },
     "execution_count": 35,
     "metadata": {},
     "output_type": "execute_result"
    }
   ],
   "source": [
    "clf_gs.best_params_\n"
   ]
  },
  {
   "cell_type": "code",
   "execution_count": 36,
   "metadata": {},
   "outputs": [
    {
     "data": {
      "text/plain": [
       "[<matplotlib.lines.Line2D at 0x10ae5ddd8>]"
      ]
     },
     "execution_count": 36,
     "metadata": {},
     "output_type": "execute_result"
    },
    {
     "data": {
      "image/png": "[encoded data removed]",
      "text/plain": [
       "<Figure size 432x288 with 1 Axes>"
      ]
     },
     "metadata": {
      "needs_background": "light"
     },
     "output_type": "display_data"
    }
   ],
   "source": [
    "plt.plot(range(1, 51), clf_gs.cv_results_['mean_train_score'])"
   ]
  },
  {
   "cell_type": "code",
   "execution_count": 37,
   "metadata": {},
   "outputs": [
    {
     "data": {
      "text/plain": [
       "[<matplotlib.lines.Line2D at 0x10a162e48>]"
      ]
     },
     "execution_count": 37,
     "metadata": {},
     "output_type": "execute_result"
    },
    {
     "data": {
      "image/png": "[encoded data removed]",
      "text/plain": [
       "<Figure size 432x288 with 1 Axes>"
      ]
     },
     "metadata": {
      "needs_background": "light"
     },
     "output_type": "display_data"
    }
   ],
   "source": [
    "plt.plot(range(1, 51), clf_gs.cv_results_['mean_test_score'])\n"
   ]
  },
  {
   "cell_type": "markdown",
   "metadata": {},
   "source": [
    "Значение Accuracy выросло, оптимальный K = 42.\n",
    "\n",
    "Повторим для выборок X и y."
   ]
  },
  {
   "cell_type": "code",
   "execution_count": 38,
   "metadata": {},
   "outputs": [
    {
     "name": "stdout",
     "output_type": "stream",
     "text": [
      "Accuracy (train): 74.12040656763097 %\n",
      "Accuracy (test): 45.3125 %\n",
      "New accuracy (train): 55.27756059421422 %\n",
      "New accuracy (test): 51.87500000000001 %\n"
     ]
    }
   ],
   "source": [
    "clf_gs.best_estimator_.fit(xTrain, yTrain.values.ravel())\n",
    "\n",
    "yPredictedTrainNew = clf_gs.best_estimator_.predict(xTrain)\n",
    "yPredictedTestNew = clf_gs.best_estimator_.predict(xTest)\n",
    "\n",
    "print('Accuracy (train): {} %'.format(accuracy_score(yTrain, yPredictedTrain) * 100))\n",
    "print('Accuracy (test): {} %'.format(accuracy_score(yTest, yPredictedTest) * 100))\n",
    "\n",
    "print('New accuracy (train): {} %'.format(accuracy_score(yTrain, yPredictedTrainNew) * 100))\n",
    "print('New accuracy (test): {} %'.format(accuracy_score(yTest, yPredictedTestNew) * 100))"
   ]
  },
  {
   "cell_type": "markdown",
   "metadata": {},
   "source": [
    "### Кривые обучения и валидации"
   ]
  },
  {
   "cell_type": "code",
   "execution_count": 39,
   "metadata": {},
   "outputs": [],
   "source": [
    "from sklearn.model_selection import learning_curve, validation_curve"
   ]
  },
  {
   "cell_type": "code",
   "execution_count": 40,
   "metadata": {},
   "outputs": [],
   "source": [
    "def plot_learning_curve(estimator, title, X, y, ylim=None, cv=None,\n",
    "                        n_jobs=-1, train_sizes=np.linspace(.1, 1.0, 5)):\n",
    "    \"\"\"\n",
    "    Generate a simple plot of the test and training learning curve.\n",
    "\n",
    "    Parameters\n",
    "    ----------\n",
    "    estimator : object type that implements the \"fit\" and \"predict\" methods\n",
    "        An object of that type which is cloned for each validation.\n",
    "\n",
    "    title : string\n",
    "        Title for the chart.\n",
    "\n",
    "    X : array-like, shape (n_samples, n_features)\n",
    "        Training vector, where n_samples is the number of samples and\n",
    "        n_features is the number of features.\n",
    "\n",
    "    y : array-like, shape (n_samples) or (n_samples, n_features), optional\n",
    "        Target relative to X for classification or regression;\n",
    "        None for unsupervised learning.\n",
    "\n",
    "    ylim : tuple, shape (ymin, ymax), optional\n",
    "        Defines minimum and maximum yvalues plotted.\n",
    "\n",
    "    cv : int, cross-validation generator or an iterable, optional\n",
    "        Determines the cross-validation splitting strategy.\n",
    "        Possible inputs for cv are:\n",
    "          - None, to use the default 3-fold cross-validation,\n",
    "          - integer, to specify the number of folds.\n",
    "          - :term:`CV splitter`,\n",
    "          - An iterable yielding (train, test) splits as arrays of indices.\n",
    "\n",
    "        For integer/None inputs, if ``y`` is binary or multiclass,\n",
    "        :class:`StratifiedKFold` used. If the estimator is not a classifier\n",
    "        or if ``y`` is neither binary nor multiclass, :class:`KFold` is used.\n",
    "\n",
    "        Refer :ref:`User Guide <cross_validation>` for the various\n",
    "        cross-validators that can be used here.\n",
    "\n",
    "    n_jobs : int or None, optional (default=None)\n",
    "        Number of jobs to run in parallel.\n",
    "        ``None`` means 1 unless in a :obj:`joblib.parallel_backend` context.\n",
    "        ``-1`` means using all processors. See :term:`Glossary <n_jobs>`\n",
    "        for more details.\n",
    "\n",
    "    train_sizes : array-like, shape (n_ticks,), dtype float or int\n",
    "        Relative or absolute numbers of training examples that will be used to\n",
    "        generate the learning curve. If the dtype is float, it is regarded as a\n",
    "        fraction of the maximum size of the training set (that is determined\n",
    "        by the selected validation method), i.e. it has to be within (0, 1].\n",
    "        Otherwise it is interpreted as absolute sizes of the training sets.\n",
    "        Note that for classification the number of samples usually have to\n",
    "        be big enough to contain at least one sample from each class.\n",
    "        (default: np.linspace(0.1, 1.0, 5))\n",
    "    \"\"\"\n",
    "    plt.figure()\n",
    "    plt.title(title)\n",
    "    if ylim is not None:\n",
    "        plt.ylim(*ylim)\n",
    "    plt.xlabel(\"Training examples\")\n",
    "    plt.ylabel(\"Score\")\n",
    "    train_sizes, train_scores, test_scores = learning_curve(\n",
    "        estimator, X, y, cv=cv, n_jobs=n_jobs, train_sizes=train_sizes)\n",
    "    train_scores_mean = np.mean(train_scores, axis=1)\n",
    "    train_scores_std = np.std(train_scores, axis=1)\n",
    "    test_scores_mean = np.mean(test_scores, axis=1)\n",
    "    test_scores_std = np.std(test_scores, axis=1)\n",
    "    plt.grid()\n",
    "\n",
    "    plt.fill_between(train_sizes, train_scores_mean - train_scores_std,\n",
    "                     train_scores_mean + train_scores_std, alpha=0.1,\n",
    "                     color=\"r\")\n",
    "    plt.fill_between(train_sizes, test_scores_mean - test_scores_std,\n",
    "                     test_scores_mean + test_scores_std, alpha=0.1, color=\"g\")\n",
    "    plt.plot(train_sizes, train_scores_mean, 'o-', color=\"r\",\n",
    "             label=\"Training score\")\n",
    "    plt.plot(train_sizes, test_scores_mean, 'o-', color=\"g\",\n",
    "             label=\"Cross-validation score\")\n",
    "\n",
    "    plt.legend(loc=\"best\")\n",
    "    return plt"
   ]
  },
  {
   "cell_type": "code",
   "execution_count": 41,
   "metadata": {},
   "outputs": [
    {
     "data": {
      "text/plain": [
       "<module 'matplotlib.pyplot' from '/Users/artyom.andreev/Study/.venv/lib/python3.7/site-packages/matplotlib/pyplot.py'>"
      ]
     },
     "execution_count": 41,
     "metadata": {},
     "output_type": "execute_result"
    },
    {
     "data": {
      "image/png": "[encoded data removed]",
      "text/plain": [
       "<Figure size 432x288 with 1 Axes>"
      ]
     },
     "metadata": {
      "needs_background": "light"
     },
     "output_type": "display_data"
    }
   ],
   "source": [
    "plot_learning_curve(clf_gs.best_estimator_, 'n_neighbors=42',\n",
    "                    xTrain, yTrain.values.ravel(), cv=KFold(n_splits=100))"
   ]
  },
  {
   "cell_type": "code",
   "execution_count": 42,
   "metadata": {},
   "outputs": [],
   "source": [
    "def plot_validation_curve(estimator, title, X, y, \n",
    "                          param_name, param_range, cv, \n",
    "                          scoring=\"accuracy\"):\n",
    "                                                   \n",
    "    train_scores, test_scores = validation_curve(\n",
    "        estimator, X, y, param_name=param_name, param_range=param_range,\n",
    "        cv=cv, scoring=scoring,\n",
    "        n_jobs=-1\n",
    "    )\n",
    "    train_scores_mean = np.mean(train_scores, axis=1)\n",
    "    train_scores_std = np.std(train_scores, axis=1)\n",
    "    test_scores_mean = np.mean(test_scores, axis=1)\n",
    "    test_scores_std = np.std(test_scores, axis=1)\n",
    "\n",
    "    plt.title(title)\n",
    "    plt.xlabel(param_name)\n",
    "    plt.ylabel(\"Score\")\n",
    "    plt.ylim(0.0, 1.1)\n",
    "    lw = 2\n",
    "    plt.plot(param_range, train_scores_mean, label=\"Training score\",\n",
    "                 color=\"darkorange\", lw=lw)\n",
    "    plt.fill_between(param_range, train_scores_mean - train_scores_std,\n",
    "                     train_scores_mean + train_scores_std, alpha=0.2,\n",
    "                     color=\"darkorange\", lw=lw)\n",
    "    plt.plot(param_range, test_scores_mean, label=\"Cross-validation score\",\n",
    "                 color=\"navy\", lw=lw)\n",
    "    plt.fill_between(param_range, test_scores_mean - test_scores_std,\n",
    "                     test_scores_mean + test_scores_std, alpha=0.2,\n",
    "                     color=\"navy\", lw=lw)\n",
    "    plt.legend(loc=\"best\")\n",
    "    return plt"
   ]
  },
  {
   "cell_type": "code",
   "execution_count": 43,
   "metadata": {},
   "outputs": [
    {
     "data": {
      "text/plain": [
       "<module 'matplotlib.pyplot' from '/Users/artyom.andreev/Study/.venv/lib/python3.7/site-packages/matplotlib/pyplot.py'>"
      ]
     },
     "execution_count": 43,
     "metadata": {},
     "output_type": "execute_result"
    },
    {
     "data": {
      "image/png": "[encoded data removed]",
      "text/plain": [
       "<Figure size 432x288 with 1 Axes>"
      ]
     },
     "metadata": {
      "needs_background": "light"
     },
     "output_type": "display_data"
    }
   ],
   "source": [
    "plot_validation_curve(KNeighborsClassifier(), 'knn', \n",
    "                      xTrain, yTrain.values.ravel(), \n",
    "                      param_name='n_neighbors', param_range=range(1, 51), \n",
    "                      cv=KFold(n_splits=100), scoring=\"accuracy\")"
   ]
  },
  {
   "cell_type": "code",
   "execution_count": null,
   "metadata": {},
   "outputs": [],
   "source": []
  }
 ],
 "metadata": {
  "kernelspec": {
   "display_name": "Python 3",
   "language": "python",
   "name": "python3"
  },
  "language_info": {
   "codemirror_mode": {
    "name": "ipython",
    "version": 3
   },
   "file_extension": ".py",
   "mimetype": "text/x-python",
   "name": "python",
   "nbconvert_exporter": "python",
   "pygments_lexer": "ipython3",
   "version": "3.7.3"
  }
 },
 "nbformat": 4,
 "nbformat_minor": 2
}
