{
 "cells": [
  {
   "cell_type": "code",
   "execution_count": 2,
   "metadata": {},
   "outputs": [],
   "source": [
    "import numpy as np\n",
    "import pandas as pd\n",
    "pd.set_option('display.max.rows', 1000)\n",
    "import seaborn as sns\n",
    "import matplotlib.pyplot as plt\n",
    "%matplotlib inline \n",
    "sns.set(style='ticks')"
   ]
  },
  {
   "cell_type": "markdown",
   "metadata": {},
   "source": [
    "### Подготовка датасета"
   ]
  },
  {
   "cell_type": "code",
   "execution_count": 3,
   "metadata": {},
   "outputs": [
    {
     "data": {
      "text/plain": [
       "(21613, 21)"
      ]
     },
     "execution_count": 3,
     "metadata": {},
     "output_type": "execute_result"
    }
   ],
   "source": [
    "# House Sales in King County, USA\n",
    "# Predict house price using regression\n",
    "data = pd.read_csv('data/kc_house_data.csv')\n",
    "data.shape"
   ]
  },
  {
   "cell_type": "code",
   "execution_count": 4,
   "metadata": {},
   "outputs": [
    {
     "data": {
      "text/html": [
       "<div>\n",
       "<style scoped>\n",
       "    .dataframe tbody tr th:only-of-type {\n",
       "        vertical-align: middle;\n",
       "    }\n",
       "\n",
       "    .dataframe tbody tr th {\n",
       "        vertical-align: top;\n",
       "    }\n",
       "\n",
       "    .dataframe thead th {\n",
       "        text-align: right;\n",
       "    }\n",
       "</style>\n",
       "<table border=\"1\" class=\"dataframe\">\n",
       "  <thead>\n",
       "    <tr style=\"text-align: right;\">\n",
       "      <th></th>\n",
       "      <th>id</th>\n",
       "      <th>date</th>\n",
       "      <th>price</th>\n",
       "      <th>bedrooms</th>\n",
       "      <th>bathrooms</th>\n",
       "      <th>sqft_living</th>\n",
       "      <th>sqft_lot</th>\n",
       "      <th>floors</th>\n",
       "      <th>waterfront</th>\n",
       "      <th>view</th>\n",
       "      <th>...</th>\n",
       "      <th>grade</th>\n",
       "      <th>sqft_above</th>\n",
       "      <th>sqft_basement</th>\n",
       "      <th>yr_built</th>\n",
       "      <th>yr_renovated</th>\n",
       "      <th>zipcode</th>\n",
       "      <th>lat</th>\n",
       "      <th>long</th>\n",
       "      <th>sqft_living15</th>\n",
       "      <th>sqft_lot15</th>\n",
       "    </tr>\n",
       "  </thead>\n",
       "  <tbody>\n",
       "    <tr>\n",
       "      <th>0</th>\n",
       "      <td>7129300520</td>\n",
       "      <td>20141013T000000</td>\n",
       "      <td>221900.0</td>\n",
       "      <td>3</td>\n",
       "      <td>1.00</td>\n",
       "      <td>1180</td>\n",
       "      <td>5650</td>\n",
       "      <td>1.0</td>\n",
       "      <td>0</td>\n",
       "      <td>0</td>\n",
       "      <td>...</td>\n",
       "      <td>7</td>\n",
       "      <td>1180</td>\n",
       "      <td>0</td>\n",
       "      <td>1955</td>\n",
       "      <td>0</td>\n",
       "      <td>98178</td>\n",
       "      <td>47.5112</td>\n",
       "      <td>-122.257</td>\n",
       "      <td>1340</td>\n",
       "      <td>5650</td>\n",
       "    </tr>\n",
       "    <tr>\n",
       "      <th>1</th>\n",
       "      <td>6414100192</td>\n",
       "      <td>20141209T000000</td>\n",
       "      <td>538000.0</td>\n",
       "      <td>3</td>\n",
       "      <td>2.25</td>\n",
       "      <td>2570</td>\n",
       "      <td>7242</td>\n",
       "      <td>2.0</td>\n",
       "      <td>0</td>\n",
       "      <td>0</td>\n",
       "      <td>...</td>\n",
       "      <td>7</td>\n",
       "      <td>2170</td>\n",
       "      <td>400</td>\n",
       "      <td>1951</td>\n",
       "      <td>1991</td>\n",
       "      <td>98125</td>\n",
       "      <td>47.7210</td>\n",
       "      <td>-122.319</td>\n",
       "      <td>1690</td>\n",
       "      <td>7639</td>\n",
       "    </tr>\n",
       "    <tr>\n",
       "      <th>2</th>\n",
       "      <td>5631500400</td>\n",
       "      <td>20150225T000000</td>\n",
       "      <td>180000.0</td>\n",
       "      <td>2</td>\n",
       "      <td>1.00</td>\n",
       "      <td>770</td>\n",
       "      <td>10000</td>\n",
       "      <td>1.0</td>\n",
       "      <td>0</td>\n",
       "      <td>0</td>\n",
       "      <td>...</td>\n",
       "      <td>6</td>\n",
       "      <td>770</td>\n",
       "      <td>0</td>\n",
       "      <td>1933</td>\n",
       "      <td>0</td>\n",
       "      <td>98028</td>\n",
       "      <td>47.7379</td>\n",
       "      <td>-122.233</td>\n",
       "      <td>2720</td>\n",
       "      <td>8062</td>\n",
       "    </tr>\n",
       "    <tr>\n",
       "      <th>3</th>\n",
       "      <td>2487200875</td>\n",
       "      <td>20141209T000000</td>\n",
       "      <td>604000.0</td>\n",
       "      <td>4</td>\n",
       "      <td>3.00</td>\n",
       "      <td>1960</td>\n",
       "      <td>5000</td>\n",
       "      <td>1.0</td>\n",
       "      <td>0</td>\n",
       "      <td>0</td>\n",
       "      <td>...</td>\n",
       "      <td>7</td>\n",
       "      <td>1050</td>\n",
       "      <td>910</td>\n",
       "      <td>1965</td>\n",
       "      <td>0</td>\n",
       "      <td>98136</td>\n",
       "      <td>47.5208</td>\n",
       "      <td>-122.393</td>\n",
       "      <td>1360</td>\n",
       "      <td>5000</td>\n",
       "    </tr>\n",
       "    <tr>\n",
       "      <th>4</th>\n",
       "      <td>1954400510</td>\n",
       "      <td>20150218T000000</td>\n",
       "      <td>510000.0</td>\n",
       "      <td>3</td>\n",
       "      <td>2.00</td>\n",
       "      <td>1680</td>\n",
       "      <td>8080</td>\n",
       "      <td>1.0</td>\n",
       "      <td>0</td>\n",
       "      <td>0</td>\n",
       "      <td>...</td>\n",
       "      <td>8</td>\n",
       "      <td>1680</td>\n",
       "      <td>0</td>\n",
       "      <td>1987</td>\n",
       "      <td>0</td>\n",
       "      <td>98074</td>\n",
       "      <td>47.6168</td>\n",
       "      <td>-122.045</td>\n",
       "      <td>1800</td>\n",
       "      <td>7503</td>\n",
       "    </tr>\n",
       "  </tbody>\n",
       "</table>\n",
       "<p>5 rows × 21 columns</p>\n",
       "</div>"
      ],
      "text/plain": [
       "           id             date     price  bedrooms  bathrooms  sqft_living  \\\n",
       "0  7129300520  20141013T000000  221900.0         3       1.00         1180   \n",
       "1  6414100192  20141209T000000  538000.0         3       2.25         2570   \n",
       "2  5631500400  20150225T000000  180000.0         2       1.00          770   \n",
       "3  2487200875  20141209T000000  604000.0         4       3.00         1960   \n",
       "4  1954400510  20150218T000000  510000.0         3       2.00         1680   \n",
       "\n",
       "   sqft_lot  floors  waterfront  view  ...  grade  sqft_above  sqft_basement  \\\n",
       "0      5650     1.0           0     0  ...      7        1180              0   \n",
       "1      7242     2.0           0     0  ...      7        2170            400   \n",
       "2     10000     1.0           0     0  ...      6         770              0   \n",
       "3      5000     1.0           0     0  ...      7        1050            910   \n",
       "4      8080     1.0           0     0  ...      8        1680              0   \n",
       "\n",
       "   yr_built  yr_renovated  zipcode      lat     long  sqft_living15  \\\n",
       "0      1955             0    98178  47.5112 -122.257           1340   \n",
       "1      1951          1991    98125  47.7210 -122.319           1690   \n",
       "2      1933             0    98028  47.7379 -122.233           2720   \n",
       "3      1965             0    98136  47.5208 -122.393           1360   \n",
       "4      1987             0    98074  47.6168 -122.045           1800   \n",
       "\n",
       "   sqft_lot15  \n",
       "0        5650  \n",
       "1        7639  \n",
       "2        8062  \n",
       "3        5000  \n",
       "4        7503  \n",
       "\n",
       "[5 rows x 21 columns]"
      ]
     },
     "execution_count": 4,
     "metadata": {},
     "output_type": "execute_result"
    }
   ],
   "source": [
    "data.head()"
   ]
  },
  {
   "cell_type": "code",
   "execution_count": 5,
   "metadata": {},
   "outputs": [],
   "source": [
    "data = data.drop(columns=['id', 'date', ])"
   ]
  },
  {
   "cell_type": "code",
   "execution_count": 6,
   "metadata": {},
   "outputs": [
    {
     "data": {
      "text/plain": [
       "price            0\n",
       "bedrooms         0\n",
       "bathrooms        0\n",
       "sqft_living      0\n",
       "sqft_lot         0\n",
       "floors           0\n",
       "waterfront       0\n",
       "view             0\n",
       "condition        0\n",
       "grade            0\n",
       "sqft_above       0\n",
       "sqft_basement    0\n",
       "yr_built         0\n",
       "yr_renovated     0\n",
       "zipcode          0\n",
       "lat              0\n",
       "long             0\n",
       "sqft_living15    0\n",
       "sqft_lot15       0\n",
       "dtype: int64"
      ]
     },
     "execution_count": 6,
     "metadata": {},
     "output_type": "execute_result"
    }
   ],
   "source": [
    "data.isnull().sum()"
   ]
  },
  {
   "cell_type": "code",
   "execution_count": 7,
   "metadata": {},
   "outputs": [
    {
     "data": {
      "text/plain": [
       "price            float64\n",
       "bedrooms           int64\n",
       "bathrooms        float64\n",
       "sqft_living        int64\n",
       "sqft_lot           int64\n",
       "floors           float64\n",
       "waterfront         int64\n",
       "view               int64\n",
       "condition          int64\n",
       "grade              int64\n",
       "sqft_above         int64\n",
       "sqft_basement      int64\n",
       "yr_built           int64\n",
       "yr_renovated       int64\n",
       "zipcode            int64\n",
       "lat              float64\n",
       "long             float64\n",
       "sqft_living15      int64\n",
       "sqft_lot15         int64\n",
       "dtype: object"
      ]
     },
     "execution_count": 7,
     "metadata": {},
     "output_type": "execute_result"
    }
   ],
   "source": [
    "data.dtypes"
   ]
  },
  {
   "cell_type": "code",
   "execution_count": 8,
   "metadata": {},
   "outputs": [],
   "source": [
    "# пропусков нет, разделим на обучающую и тестовую выборку\n",
    "from sklearn.model_selection import train_test_split"
   ]
  },
  {
   "cell_type": "code",
   "execution_count": 9,
   "metadata": {},
   "outputs": [],
   "source": [
    "# перед этим разделим исходный датасет на 2: один содержит независимые параметры, другой – зависимый (price)\n",
    "X, y = data[data.columns[range(1, 19)]], data[data.columns[[0]]]"
   ]
  },
  {
   "cell_type": "code",
   "execution_count": 10,
   "metadata": {},
   "outputs": [
    {
     "data": {
      "text/plain": [
       "bedrooms           int64\n",
       "bathrooms        float64\n",
       "sqft_living        int64\n",
       "sqft_lot           int64\n",
       "floors           float64\n",
       "waterfront         int64\n",
       "view               int64\n",
       "condition          int64\n",
       "grade              int64\n",
       "sqft_above         int64\n",
       "sqft_basement      int64\n",
       "yr_built           int64\n",
       "yr_renovated       int64\n",
       "zipcode            int64\n",
       "lat              float64\n",
       "long             float64\n",
       "sqft_living15      int64\n",
       "sqft_lot15         int64\n",
       "dtype: object"
      ]
     },
     "execution_count": 10,
     "metadata": {},
     "output_type": "execute_result"
    }
   ],
   "source": [
    "X.dtypes"
   ]
  },
  {
   "cell_type": "code",
   "execution_count": 11,
   "metadata": {},
   "outputs": [
    {
     "data": {
      "text/plain": [
       "price    float64\n",
       "dtype: object"
      ]
     },
     "execution_count": 11,
     "metadata": {},
     "output_type": "execute_result"
    }
   ],
   "source": [
    "y.dtypes"
   ]
  },
  {
   "cell_type": "code",
   "execution_count": 12,
   "metadata": {},
   "outputs": [
    {
     "data": {
      "text/plain": [
       "(17290, 4323, 17290, 4323)"
      ]
     },
     "execution_count": 12,
     "metadata": {},
     "output_type": "execute_result"
    }
   ],
   "source": [
    "test_size = 0.2\n",
    "state = 42\n",
    "xTrain, xTest, yTrain, yTest = train_test_split(X, y, test_size=test_size, random_state=state)\n",
    "len(xTrain), len(xTest), len(yTrain), len(yTest)"
   ]
  },
  {
   "cell_type": "markdown",
   "metadata": {},
   "source": [
    "### Обучение моделей"
   ]
  },
  {
   "cell_type": "markdown",
   "metadata": {},
   "source": [
    "### 1) linear regression"
   ]
  },
  {
   "cell_type": "code",
   "execution_count": 13,
   "metadata": {},
   "outputs": [
    {
     "data": {
      "text/plain": [
       "LinearRegression(copy_X=True, fit_intercept=True, n_jobs=None,\n",
       "         normalize=False)"
      ]
     },
     "execution_count": 13,
     "metadata": {},
     "output_type": "execute_result"
    }
   ],
   "source": [
    "from sklearn.linear_model import LinearRegression\n",
    "lin_reg = LinearRegression()\n",
    "lin_reg.fit(xTrain, yTrain)"
   ]
  },
  {
   "cell_type": "code",
   "execution_count": 14,
   "metadata": {},
   "outputs": [
    {
     "data": {
      "text/plain": [
       "(array([6643873.52788867]),\n",
       " array([[-3.43354187e+04,  4.45645289e+04,  1.09015817e+02,\n",
       "          8.88473539e-02,  7.00312952e+03,  5.62413070e+05,\n",
       "          5.36411070e+04,  2.45267101e+04,  9.45678917e+04,\n",
       "          7.00227408e+01,  3.89930757e+01, -2.68076890e+03,\n",
       "          2.04156328e+01, -5.52253038e+02,  5.95968122e+05,\n",
       "         -1.94585724e+05,  2.12143306e+01, -3.25831873e-01]]))"
      ]
     },
     "execution_count": 14,
     "metadata": {},
     "output_type": "execute_result"
    }
   ],
   "source": [
    "lin_reg.intercept_, lin_reg.coef_"
   ]
  },
  {
   "cell_type": "code",
   "execution_count": 15,
   "metadata": {},
   "outputs": [
    {
     "data": {
      "text/plain": [
       "array([[ 461209.94695865],\n",
       "       [ 752443.51006947],\n",
       "       [1238489.80205799],\n",
       "       ...,\n",
       "       [ 423101.46384868],\n",
       "       [ 617785.6141686 ],\n",
       "       [ 442344.46084995]])"
      ]
     },
     "execution_count": 15,
     "metadata": {},
     "output_type": "execute_result"
    }
   ],
   "source": [
    "yPredictedTest = lin_reg.predict(xTest)\n",
    "yPredictedTest"
   ]
  },
  {
   "cell_type": "code",
   "execution_count": 16,
   "metadata": {},
   "outputs": [
    {
     "data": {
      "text/plain": [
       "array([[487301.30123506],\n",
       "       [244429.83104153],\n",
       "       [146433.18955254],\n",
       "       ...,\n",
       "       [456528.57446002],\n",
       "       [-90768.72572574],\n",
       "       [466824.07074714]])"
      ]
     },
     "execution_count": 16,
     "metadata": {},
     "output_type": "execute_result"
    }
   ],
   "source": [
    "yPredictedTrain = lin_reg.predict(xTrain)\n",
    "yPredictedTrain"
   ]
  },
  {
   "cell_type": "code",
   "execution_count": 17,
   "metadata": {},
   "outputs": [
    {
     "data": {
      "text/plain": [
       "array([ 365000.,  865000., 1038000., ...,  285000.,  605000.,  356500.])"
      ]
     },
     "execution_count": 17,
     "metadata": {},
     "output_type": "execute_result"
    }
   ],
   "source": [
    "yTest['price'].values"
   ]
  },
  {
   "cell_type": "code",
   "execution_count": 18,
   "metadata": {},
   "outputs": [
    {
     "name": "stdout",
     "output_type": "stream",
     "text": [
      "mean_absolute_error (train): 125033.1649380497\n",
      "mean_absolute_error (test): 127493.34208657558\n"
     ]
    }
   ],
   "source": [
    "# оценим качество модели регрессии\n",
    "from sklearn.metrics import mean_absolute_error, mean_squared_error, r2_score\n",
    "\n",
    "# 1) mean absolute error – средняя абсолютная ошибка\n",
    "print('mean_absolute_error (train): {}'.format(mean_absolute_error(yTrain, yPredictedTrain)))\n",
    "print('mean_absolute_error (test): {}'.format(mean_absolute_error(yTest, yPredictedTest)))"
   ]
  },
  {
   "cell_type": "code",
   "execution_count": 19,
   "metadata": {},
   "outputs": [
    {
     "name": "stdout",
     "output_type": "stream",
     "text": [
      "mean_squared_error (train): 39311882352.23276\n",
      "mean_squared_error (test): 45173046132.78762\n"
     ]
    }
   ],
   "source": [
    "# 2) mean squared error – средняя абсолютная ошибка\n",
    "print('mean_squared_error (train): {}'.format(mean_squared_error(yTrain, yPredictedTrain)))\n",
    "print('mean_squared_error (test): {}'.format(mean_squared_error(yTest, yPredictedTest)))"
   ]
  },
  {
   "cell_type": "code",
   "execution_count": 20,
   "metadata": {},
   "outputs": [
    {
     "name": "stdout",
     "output_type": "stream",
     "text": [
      "r^2 score (train): 0.6991021854487471\n",
      "r^2 score (test): 0.7011904448878581\n"
     ]
    }
   ],
   "source": [
    "# 3) r^2 score\n",
    "print('r^2 score (train): {}'.format(r2_score(yTrain, yPredictedTrain)))\n",
    "print('r^2 score (test): {}'.format(r2_score(yTest, yPredictedTest)))"
   ]
  },
  {
   "cell_type": "code",
   "execution_count": 21,
   "metadata": {},
   "outputs": [],
   "source": [
    "# from sklearn.linear_model import ElasticNet"
   ]
  },
  {
   "cell_type": "markdown",
   "metadata": {},
   "source": [
    "### 2) SVM"
   ]
  },
  {
   "cell_type": "code",
   "execution_count": 22,
   "metadata": {},
   "outputs": [
    {
     "data": {
      "text/html": [
       "<div>\n",
       "<style scoped>\n",
       "    .dataframe tbody tr th:only-of-type {\n",
       "        vertical-align: middle;\n",
       "    }\n",
       "\n",
       "    .dataframe tbody tr th {\n",
       "        vertical-align: top;\n",
       "    }\n",
       "\n",
       "    .dataframe thead th {\n",
       "        text-align: right;\n",
       "    }\n",
       "</style>\n",
       "<table border=\"1\" class=\"dataframe\">\n",
       "  <thead>\n",
       "    <tr style=\"text-align: right;\">\n",
       "      <th></th>\n",
       "      <th>fixed acidity</th>\n",
       "      <th>volatile acidity</th>\n",
       "      <th>citric acid</th>\n",
       "      <th>residual sugar</th>\n",
       "      <th>chlorides</th>\n",
       "      <th>free sulfur dioxide</th>\n",
       "      <th>total sulfur dioxide</th>\n",
       "      <th>density</th>\n",
       "      <th>pH</th>\n",
       "      <th>sulphates</th>\n",
       "      <th>alcohol</th>\n",
       "      <th>quality</th>\n",
       "    </tr>\n",
       "  </thead>\n",
       "  <tbody>\n",
       "    <tr>\n",
       "      <th>0</th>\n",
       "      <td>7.4</td>\n",
       "      <td>0.70</td>\n",
       "      <td>0.00</td>\n",
       "      <td>1.9</td>\n",
       "      <td>0.076</td>\n",
       "      <td>11.0</td>\n",
       "      <td>34.0</td>\n",
       "      <td>0.9978</td>\n",
       "      <td>3.51</td>\n",
       "      <td>0.56</td>\n",
       "      <td>9.4</td>\n",
       "      <td>5</td>\n",
       "    </tr>\n",
       "    <tr>\n",
       "      <th>1</th>\n",
       "      <td>7.8</td>\n",
       "      <td>0.88</td>\n",
       "      <td>0.00</td>\n",
       "      <td>2.6</td>\n",
       "      <td>0.098</td>\n",
       "      <td>25.0</td>\n",
       "      <td>67.0</td>\n",
       "      <td>0.9968</td>\n",
       "      <td>3.20</td>\n",
       "      <td>0.68</td>\n",
       "      <td>9.8</td>\n",
       "      <td>5</td>\n",
       "    </tr>\n",
       "    <tr>\n",
       "      <th>2</th>\n",
       "      <td>7.8</td>\n",
       "      <td>0.76</td>\n",
       "      <td>0.04</td>\n",
       "      <td>2.3</td>\n",
       "      <td>0.092</td>\n",
       "      <td>15.0</td>\n",
       "      <td>54.0</td>\n",
       "      <td>0.9970</td>\n",
       "      <td>3.26</td>\n",
       "      <td>0.65</td>\n",
       "      <td>9.8</td>\n",
       "      <td>5</td>\n",
       "    </tr>\n",
       "    <tr>\n",
       "      <th>3</th>\n",
       "      <td>11.2</td>\n",
       "      <td>0.28</td>\n",
       "      <td>0.56</td>\n",
       "      <td>1.9</td>\n",
       "      <td>0.075</td>\n",
       "      <td>17.0</td>\n",
       "      <td>60.0</td>\n",
       "      <td>0.9980</td>\n",
       "      <td>3.16</td>\n",
       "      <td>0.58</td>\n",
       "      <td>9.8</td>\n",
       "      <td>6</td>\n",
       "    </tr>\n",
       "    <tr>\n",
       "      <th>4</th>\n",
       "      <td>7.4</td>\n",
       "      <td>0.70</td>\n",
       "      <td>0.00</td>\n",
       "      <td>1.9</td>\n",
       "      <td>0.076</td>\n",
       "      <td>11.0</td>\n",
       "      <td>34.0</td>\n",
       "      <td>0.9978</td>\n",
       "      <td>3.51</td>\n",
       "      <td>0.56</td>\n",
       "      <td>9.4</td>\n",
       "      <td>5</td>\n",
       "    </tr>\n",
       "  </tbody>\n",
       "</table>\n",
       "</div>"
      ],
      "text/plain": [
       "   fixed acidity  volatile acidity  citric acid  residual sugar  chlorides  \\\n",
       "0            7.4              0.70         0.00             1.9      0.076   \n",
       "1            7.8              0.88         0.00             2.6      0.098   \n",
       "2            7.8              0.76         0.04             2.3      0.092   \n",
       "3           11.2              0.28         0.56             1.9      0.075   \n",
       "4            7.4              0.70         0.00             1.9      0.076   \n",
       "\n",
       "   free sulfur dioxide  total sulfur dioxide  density    pH  sulphates  \\\n",
       "0                 11.0                  34.0   0.9978  3.51       0.56   \n",
       "1                 25.0                  67.0   0.9968  3.20       0.68   \n",
       "2                 15.0                  54.0   0.9970  3.26       0.65   \n",
       "3                 17.0                  60.0   0.9980  3.16       0.58   \n",
       "4                 11.0                  34.0   0.9978  3.51       0.56   \n",
       "\n",
       "   alcohol  quality  \n",
       "0      9.4        5  \n",
       "1      9.8        5  \n",
       "2      9.8        5  \n",
       "3      9.8        6  \n",
       "4      9.4        5  "
      ]
     },
     "execution_count": 22,
     "metadata": {},
     "output_type": "execute_result"
    }
   ],
   "source": [
    "# возьмем другой датасет, подходящий для задачи классификации\n",
    "data_class = pd.read_csv('data/winequality-red.csv')\n",
    "data_class.head()"
   ]
  },
  {
   "cell_type": "code",
   "execution_count": 23,
   "metadata": {},
   "outputs": [
    {
     "name": "stdout",
     "output_type": "stream",
     "text": [
      "X:\n",
      " Index(['fixed acidity', 'volatile acidity', 'citric acid', 'residual sugar',\n",
      "       'chlorides', 'free sulfur dioxide', 'total sulfur dioxide', 'density',\n",
      "       'pH', 'sulphates', 'alcohol'],\n",
      "      dtype='object')\n",
      "y:\n",
      " Index(['quality'], dtype='object')\n"
     ]
    }
   ],
   "source": [
    "XC, yC = data_class[data_class.columns[range(11)]], data_class[data_class.columns[[11]]]\n",
    "print('X:\\n', XC.columns)\n",
    "print('y:\\n', yC.columns)"
   ]
  },
  {
   "cell_type": "code",
   "execution_count": 24,
   "metadata": {},
   "outputs": [
    {
     "data": {
      "text/plain": [
       "array([[0.19515252, 0.01846037, 0.        , ..., 0.09256559, 0.0147683 ,\n",
       "        0.24789644],\n",
       "       [0.10724124, 0.01209901, 0.        , ..., 0.04399641, 0.00934924,\n",
       "        0.134739  ],\n",
       "       [0.13545665, 0.01319834, 0.00069465, ..., 0.05661393, 0.01128805,\n",
       "        0.17018912],\n",
       "       ...,\n",
       "       [0.12306863, 0.0099627 , 0.00253951, ..., 0.06680869, 0.01465103,\n",
       "        0.21488174],\n",
       "       [0.10566885, 0.01155193, 0.0021492 , ..., 0.06393861, 0.01271608,\n",
       "        0.18268174],\n",
       "       [0.12589937, 0.0065048 , 0.00986212, ..., 0.07113314, 0.01384893,\n",
       "        0.2308155 ]])"
      ]
     },
     "execution_count": 24,
     "metadata": {},
     "output_type": "execute_result"
    }
   ],
   "source": [
    "from sklearn.preprocessing import Normalizer\n",
    "normalizerX = Normalizer().fit(XC)\n",
    "XC_n = normalizerX.transform(XC)\n",
    "XC_n"
   ]
  },
  {
   "cell_type": "code",
   "execution_count": 25,
   "metadata": {},
   "outputs": [
    {
     "data": {
      "text/plain": [
       "(1279, 320, 1279, 320)"
      ]
     },
     "execution_count": 25,
     "metadata": {},
     "output_type": "execute_result"
    }
   ],
   "source": [
    "test_size = 0.2\n",
    "state = 42\n",
    "xTrainC, xTestC, yTrainC, yTestC = train_test_split(XC_n, yC, test_size=test_size, random_state=state)\n",
    "len(xTrainC), len(xTestC), len(yTrainC), len(yTestC)"
   ]
  },
  {
   "cell_type": "code",
   "execution_count": 26,
   "metadata": {},
   "outputs": [
    {
     "data": {
      "text/plain": [
       "LinearSVC(C=1.0, class_weight=None, dual=True, fit_intercept=True,\n",
       "     intercept_scaling=1, loss='squared_hinge', max_iter=1000,\n",
       "     multi_class='ovr', penalty='l2', random_state=None, tol=0.0001,\n",
       "     verbose=10)"
      ]
     },
     "execution_count": 26,
     "metadata": {},
     "output_type": "execute_result"
    }
   ],
   "source": [
    "from sklearn.svm import LinearSVC\n",
    "lsvc = LinearSVC(C=1.0, max_iter=1000, verbose=10)\n",
    "lsvc"
   ]
  },
  {
   "cell_type": "code",
   "execution_count": 27,
   "metadata": {},
   "outputs": [
    {
     "name": "stdout",
     "output_type": "stream",
     "text": [
      "[LibLinear]"
     ]
    },
    {
     "data": {
      "text/plain": [
       "LinearSVC(C=1.0, class_weight=None, dual=True, fit_intercept=True,\n",
       "     intercept_scaling=1, loss='squared_hinge', max_iter=1000,\n",
       "     multi_class='ovr', penalty='l2', random_state=None, tol=0.0001,\n",
       "     verbose=10)"
      ]
     },
     "execution_count": 27,
     "metadata": {},
     "output_type": "execute_result"
    }
   ],
   "source": [
    "# обучим\n",
    "lsvc.fit(xTrainC, yTrainC.values.ravel())"
   ]
  },
  {
   "cell_type": "code",
   "execution_count": 28,
   "metadata": {},
   "outputs": [],
   "source": [
    "yPredictedCTrain = lsvc.predict(xTrainC)"
   ]
  },
  {
   "cell_type": "code",
   "execution_count": 29,
   "metadata": {},
   "outputs": [],
   "source": [
    "yPredictedCTest = lsvc.predict(xTestC)"
   ]
  },
  {
   "cell_type": "code",
   "execution_count": 30,
   "metadata": {},
   "outputs": [
    {
     "name": "stdout",
     "output_type": "stream",
     "text": [
      "Accuracy (train): 52.61923377638781 %\n",
      "Accuracy (test): 48.4375 %\n"
     ]
    }
   ],
   "source": [
    "# оценим качество модели классификации\n",
    "from sklearn.metrics import accuracy_score, confusion_matrix, precision_score, f1_score\n",
    "\n",
    "print('Accuracy (train): {} %'.format(accuracy_score(yTrainC, yPredictedCTrain) * 100))\n",
    "print('Accuracy (test): {} %'.format(accuracy_score(yTestC, yPredictedCTest) * 100))"
   ]
  },
  {
   "cell_type": "code",
   "execution_count": 31,
   "metadata": {},
   "outputs": [
    {
     "name": "stdout",
     "output_type": "stream",
     "text": [
      "Матрица ошибок: столбцы – предсказанное значение, строки – истинное значение\n",
      "Train\n",
      " [[  0   0   5   4   0   0]\n",
      " [  0   0  19  23   1   0]\n",
      " [  0   0 380 168   3   0]\n",
      " [  0   0 215 289   2   0]\n",
      " [  0   0  30 123   4   0]\n",
      " [  0   0   2  10   1   0]]\n",
      "Test\n",
      " [[ 0  0  0  1  0  0]\n",
      " [ 0  0  6  4  0  0]\n",
      " [ 0  0 83 46  1  0]\n",
      " [ 0  0 59 72  1  0]\n",
      " [ 0  0 10 32  0  0]\n",
      " [ 0  0  1  4  0  0]]\n"
     ]
    }
   ],
   "source": [
    "print('Матрица ошибок: столбцы – предсказанное значение, строки – истинное значение')\n",
    "print('Train\\n', confusion_matrix(yTrainC, yPredictedCTrain))\n",
    "print('Test\\n', confusion_matrix(yTestC, yPredictedCTest))"
   ]
  },
  {
   "cell_type": "code",
   "execution_count": 32,
   "metadata": {},
   "outputs": [
    {
     "name": "stdout",
     "output_type": "stream",
     "text": [
      "Train\n",
      " 0.48141303911456856\n",
      "Test\n",
      " 0.39886006289308173\n"
     ]
    },
    {
     "name": "stderr",
     "output_type": "stream",
     "text": [
      "/Users/artyom.andreev/Study/.venv/lib/python3.7/site-packages/sklearn/metrics/classification.py:1143: UndefinedMetricWarning: Precision is ill-defined and being set to 0.0 in labels with no predicted samples.\n",
      "  'precision', 'predicted', average, warn_for)\n"
     ]
    }
   ],
   "source": [
    "print('Train\\n', precision_score(yTrainC, yPredictedCTrain, average='weighted'))\n",
    "print('Test\\n', precision_score(yTestC, yPredictedCTest, average='weighted'))"
   ]
  },
  {
   "cell_type": "code",
   "execution_count": 33,
   "metadata": {},
   "outputs": [
    {
     "name": "stdout",
     "output_type": "stream",
     "text": [
      "Train\n",
      " 0.4818582987352344\n",
      "Test\n",
      " 0.4374714622052581\n"
     ]
    },
    {
     "name": "stderr",
     "output_type": "stream",
     "text": [
      "/Users/artyom.andreev/Study/.venv/lib/python3.7/site-packages/sklearn/metrics/classification.py:1143: UndefinedMetricWarning: F-score is ill-defined and being set to 0.0 in labels with no predicted samples.\n",
      "  'precision', 'predicted', average, warn_for)\n"
     ]
    }
   ],
   "source": [
    "print('Train\\n', f1_score(yTrainC, yPredictedCTrain, average='weighted'))\n",
    "print('Test\\n', f1_score(yTestC, yPredictedCTest, average='weighted'))"
   ]
  },
  {
   "cell_type": "markdown",
   "metadata": {},
   "source": [
    "### 3) дерево"
   ]
  },
  {
   "cell_type": "code",
   "execution_count": 34,
   "metadata": {},
   "outputs": [],
   "source": [
    "from sklearn.tree import DecisionTreeClassifier"
   ]
  },
  {
   "cell_type": "code",
   "execution_count": 35,
   "metadata": {},
   "outputs": [],
   "source": [
    "tree = DecisionTreeClassifier(random_state=state)"
   ]
  },
  {
   "cell_type": "code",
   "execution_count": 36,
   "metadata": {},
   "outputs": [
    {
     "data": {
      "text/plain": [
       "DecisionTreeClassifier(class_weight=None, criterion='gini', max_depth=None,\n",
       "            max_features=None, max_leaf_nodes=None,\n",
       "            min_impurity_decrease=0.0, min_impurity_split=None,\n",
       "            min_samples_leaf=1, min_samples_split=2,\n",
       "            min_weight_fraction_leaf=0.0, presort=False, random_state=42,\n",
       "            splitter='best')"
      ]
     },
     "execution_count": 36,
     "metadata": {},
     "output_type": "execute_result"
    }
   ],
   "source": [
    "tree.fit(xTrainC, yTrainC)"
   ]
  },
  {
   "cell_type": "code",
   "execution_count": 37,
   "metadata": {},
   "outputs": [
    {
     "data": {
      "text/plain": [
       "[('fixed acidity', 0.07592761108194683),\n",
       " ('volatile acidity', 0.14598227378069772),\n",
       " ('citric acid', 0.06964897539303043),\n",
       " ('residual sugar', 0.08764568627349723),\n",
       " ('chlorides', 0.06890346497441459),\n",
       " ('free sulfur dioxide', 0.06935533573614072),\n",
       " ('total sulfur dioxide', 0.10028831360946247),\n",
       " ('density', 0.07175757883546015),\n",
       " ('pH', 0.06242167374974539),\n",
       " ('sulphates', 0.10276118494928356),\n",
       " ('alcohol', 0.14530790161632096)]"
      ]
     },
     "execution_count": 37,
     "metadata": {},
     "output_type": "execute_result"
    }
   ],
   "source": [
    "list(zip(XC.columns.values, tree.feature_importances_))"
   ]
  },
  {
   "cell_type": "code",
   "execution_count": 38,
   "metadata": {},
   "outputs": [],
   "source": [
    "yTreePredictedTrain = tree.predict(xTrainC)"
   ]
  },
  {
   "cell_type": "code",
   "execution_count": 39,
   "metadata": {},
   "outputs": [],
   "source": [
    "yTreePredictedTest = tree.predict(xTestC)"
   ]
  },
  {
   "cell_type": "code",
   "execution_count": 40,
   "metadata": {},
   "outputs": [
    {
     "name": "stdout",
     "output_type": "stream",
     "text": [
      "Accuracy (train): 100.0 %\n",
      "Accuracy (test): 60.9375 %\n"
     ]
    }
   ],
   "source": [
    "# оценим качество модели классификации\n",
    "from sklearn.metrics import accuracy_score, confusion_matrix, precision_score, f1_score\n",
    "\n",
    "print('Accuracy (train): {} %'.format(accuracy_score(yTrainC, yTreePredictedTrain) * 100))\n",
    "print('Accuracy (test): {} %'.format(accuracy_score(yTestC, yTreePredictedTest) * 100))"
   ]
  },
  {
   "cell_type": "code",
   "execution_count": 41,
   "metadata": {},
   "outputs": [
    {
     "name": "stdout",
     "output_type": "stream",
     "text": [
      "Матрица ошибок: столбцы – предсказанное значение, строки – истинное значение\n",
      "Train\n",
      " [[  9   0   0   0   0   0]\n",
      " [  0  43   0   0   0   0]\n",
      " [  0   0 551   0   0   0]\n",
      " [  0   0   0 506   0   0]\n",
      " [  0   0   0   0 157   0]\n",
      " [  0   0   0   0   0  13]]\n",
      "Test\n",
      " [[ 0  1  0  0  0  0]\n",
      " [ 0  1  5  4  0  0]\n",
      " [ 0  3 86 36  5  0]\n",
      " [ 0  0 33 87 12  0]\n",
      " [ 0  0  3 14 21  4]\n",
      " [ 0  0  0  2  3  0]]\n"
     ]
    }
   ],
   "source": [
    "print('Матрица ошибок: столбцы – предсказанное значение, строки – истинное значение')\n",
    "print('Train\\n', confusion_matrix(yTrainC, yTreePredictedTrain))\n",
    "print('Test\\n', confusion_matrix(yTestC, yTreePredictedTest))"
   ]
  },
  {
   "cell_type": "code",
   "execution_count": 42,
   "metadata": {},
   "outputs": [
    {
     "name": "stdout",
     "output_type": "stream",
     "text": [
      "Train\n",
      " 1.0\n",
      "Test\n",
      " 0.5995355734144864\n"
     ]
    },
    {
     "name": "stderr",
     "output_type": "stream",
     "text": [
      "/Users/artyom.andreev/Study/.venv/lib/python3.7/site-packages/sklearn/metrics/classification.py:1143: UndefinedMetricWarning: Precision is ill-defined and being set to 0.0 in labels with no predicted samples.\n",
      "  'precision', 'predicted', average, warn_for)\n"
     ]
    }
   ],
   "source": [
    "print('Train\\n', precision_score(yTrainC, yTreePredictedTrain, average='weighted'))\n",
    "print('Test\\n', precision_score(yTestC, yTreePredictedTest, average='weighted'))"
   ]
  },
  {
   "cell_type": "code",
   "execution_count": 43,
   "metadata": {},
   "outputs": [
    {
     "name": "stdout",
     "output_type": "stream",
     "text": [
      "Train\n",
      " 1.0\n",
      "Test\n",
      " 0.6034694888503429\n"
     ]
    },
    {
     "name": "stderr",
     "output_type": "stream",
     "text": [
      "/Users/artyom.andreev/Study/.venv/lib/python3.7/site-packages/sklearn/metrics/classification.py:1143: UndefinedMetricWarning: F-score is ill-defined and being set to 0.0 in labels with no predicted samples.\n",
      "  'precision', 'predicted', average, warn_for)\n"
     ]
    }
   ],
   "source": [
    "print('Train\\n', f1_score(yTrainC, yTreePredictedTrain, average='weighted'))\n",
    "print('Test\\n', f1_score(yTestC, yTreePredictedTest, average='weighted'))"
   ]
  },
  {
   "cell_type": "markdown",
   "metadata": {},
   "source": [
    "### подбор одного гиперпараметра с использованием GridSearchCV и кросс-валидации."
   ]
  },
  {
   "cell_type": "markdown",
   "metadata": {},
   "source": [
    "### 2) SVM"
   ]
  },
  {
   "cell_type": "code",
   "execution_count": 84,
   "metadata": {},
   "outputs": [
    {
     "name": "stdout",
     "output_type": "stream",
     "text": [
      "Fitting 10 folds for each of 450 candidates, totalling 4500 fits\n"
     ]
    },
    {
     "name": "stderr",
     "output_type": "stream",
     "text": [
      "[Parallel(n_jobs=-1)]: Using backend LokyBackend with 8 concurrent workers.\n",
      "[Parallel(n_jobs=-1)]: Batch computation too fast (0.0151s.) Setting batch_size=26.\n",
      "[Parallel(n_jobs=-1)]: Done   2 tasks      | elapsed:    0.0s\n",
      "[Parallel(n_jobs=-1)]: Done   9 tasks      | elapsed:    0.1s\n",
      "[Parallel(n_jobs=-1)]: Done  16 tasks      | elapsed:    0.1s\n",
      "[Parallel(n_jobs=-1)]: Done 250 tasks      | elapsed:    1.9s\n",
      "[Parallel(n_jobs=-1)]: Batch computation too slow (2.0100s.) Setting batch_size=13.\n",
      "[Parallel(n_jobs=-1)]: Done 484 tasks      | elapsed:    2.9s\n",
      "[Parallel(n_jobs=-1)]: Done 770 tasks      | elapsed:    4.2s\n",
      "[Parallel(n_jobs=-1)]: Done 952 tasks      | elapsed:    4.9s\n",
      "[Parallel(n_jobs=-1)]: Done 1121 tasks      | elapsed:    6.0s\n",
      "[Parallel(n_jobs=-1)]: Done 1290 tasks      | elapsed:    6.8s\n",
      "[Parallel(n_jobs=-1)]: Done 1485 tasks      | elapsed:    8.2s\n",
      "[Parallel(n_jobs=-1)]: Done 1680 tasks      | elapsed:    9.6s\n",
      "[Parallel(n_jobs=-1)]: Done 1901 tasks      | elapsed:   12.0s\n",
      "[Parallel(n_jobs=-1)]: Batch computation too slow (2.0137s.) Setting batch_size=6.\n",
      "[Parallel(n_jobs=-1)]: Done 2101 tasks      | elapsed:   13.9s\n",
      "[Parallel(n_jobs=-1)]: Done 2222 tasks      | elapsed:   15.1s\n",
      "[Parallel(n_jobs=-1)]: Done 2336 tasks      | elapsed:   16.4s\n",
      "[Parallel(n_jobs=-1)]: Done 2462 tasks      | elapsed:   17.9s\n",
      "[Parallel(n_jobs=-1)]: Done 2588 tasks      | elapsed:   19.4s\n",
      "[Parallel(n_jobs=-1)]: Done 2726 tasks      | elapsed:   21.3s\n",
      "[Parallel(n_jobs=-1)]: Done 2864 tasks      | elapsed:   23.5s\n",
      "[Parallel(n_jobs=-1)]: Done 3014 tasks      | elapsed:   25.6s\n",
      "[Parallel(n_jobs=-1)]: Done 3164 tasks      | elapsed:   28.3s\n",
      "[Parallel(n_jobs=-1)]: Done 3326 tasks      | elapsed:   30.7s\n",
      "[Parallel(n_jobs=-1)]: Done 3488 tasks      | elapsed:   33.7s\n",
      "[Parallel(n_jobs=-1)]: Done 3662 tasks      | elapsed:   36.6s\n",
      "[Parallel(n_jobs=-1)]: Done 3836 tasks      | elapsed:   39.9s\n",
      "[Parallel(n_jobs=-1)]: Done 4022 tasks      | elapsed:   43.6s\n",
      "[Parallel(n_jobs=-1)]: Done 4208 tasks      | elapsed:   47.5s\n",
      "[Parallel(n_jobs=-1)]: Batch computation too slow (2.0032s.) Setting batch_size=3.\n",
      "[Parallel(n_jobs=-1)]: Done 4352 tasks      | elapsed:   50.2s\n",
      "[Parallel(n_jobs=-1)]: Done 4451 tasks      | elapsed:   52.3s\n",
      "[Parallel(n_jobs=-1)]: Done 4500 out of 4500 | elapsed:   53.2s finished\n"
     ]
    },
    {
     "data": {
      "text/plain": [
       "GridSearchCV(cv=ShuffleSplit(n_splits=10, random_state=None, test_size=0.2, train_size=None),\n",
       "       error_score='raise-deprecating',\n",
       "       estimator=LinearSVC(C=1.0, class_weight=None, dual=True, fit_intercept=True,\n",
       "     intercept_scaling=1, loss='squared_hinge', max_iter=1000,\n",
       "     multi_class='ovr', penalty='l2', random_state=None, tol=0.0001,\n",
       "     verbose=0),\n",
       "       fit_params=None, iid='warn', n_jobs=-1,\n",
       "       param_grid=[{'C': array([0.1, 0.2, 0.3, 0.4, 0.5, 0.6, 0.7, 0.8, 0.9, 1. , 1.1, 1.2, 1.3,\n",
       "       1.4, 1.5, 1.6, 1.7, 1.8, 1.9, 2. , 2.1, 2.2, 2.3, 2.4, 2.5, 2.6,\n",
       "       2.7, 2.8, 2.9, 3. , 3.1, 3.2, 3.3, 3.4, 3.5, 3.6, 3.7, 3.8, 3.9,\n",
       "       4. , 4.1, 4.2, 4.3, 4.4, 4.5, 4.6, 4.7, 4.8, 4.9, 5. ]), 'max_iter': array([   1000,    5000,   10000,   25000,   50000,  100000,  250000,\n",
       "        500000, 1000000])}],\n",
       "       pre_dispatch='2*n_jobs', refit=True, return_train_score='warn',\n",
       "       scoring='accuracy', verbose=10)"
      ]
     },
     "execution_count": 84,
     "metadata": {},
     "output_type": "execute_result"
    }
   ],
   "source": [
    "from sklearn.model_selection import GridSearchCV, KFold, ShuffleSplit\n",
    "parameters = [{'C': np.array(np.arange(0.1, 5.1, 0.1)),\n",
    "               'max_iter': np.array([1000, 5000, 10000, 25000, 50000, 100000, 250000, 500000, 1000000])}]\n",
    "lsvc_grid = GridSearchCV(LinearSVC(), parameters, cv=ShuffleSplit(n_splits=10, test_size=0.2), scoring='accuracy', \n",
    "                         n_jobs=-1, \n",
    "                         verbose=10\n",
    "                        )\n",
    "lsvc_grid.fit(XC_n, yC.values.ravel())"
   ]
  },
  {
   "cell_type": "code",
   "execution_count": 85,
   "metadata": {},
   "outputs": [
    {
     "data": {
      "text/plain": [
       "LinearSVC(C=5.0, class_weight=None, dual=True, fit_intercept=True,\n",
       "     intercept_scaling=1, loss='squared_hinge', max_iter=1000,\n",
       "     multi_class='ovr', penalty='l2', random_state=None, tol=0.0001,\n",
       "     verbose=0)"
      ]
     },
     "execution_count": 85,
     "metadata": {},
     "output_type": "execute_result"
    }
   ],
   "source": [
    "lsvc_grid.best_estimator_"
   ]
  },
  {
   "cell_type": "code",
   "execution_count": 86,
   "metadata": {},
   "outputs": [
    {
     "data": {
      "text/plain": [
       "0.535"
      ]
     },
     "execution_count": 86,
     "metadata": {},
     "output_type": "execute_result"
    }
   ],
   "source": [
    "lsvc_grid.best_score_"
   ]
  },
  {
   "cell_type": "code",
   "execution_count": 87,
   "metadata": {},
   "outputs": [
    {
     "data": {
      "text/plain": [
       "{'C': 5.0, 'max_iter': 1000}"
      ]
     },
     "execution_count": 87,
     "metadata": {},
     "output_type": "execute_result"
    }
   ],
   "source": [
    "lsvc_grid.best_params_"
   ]
  },
  {
   "cell_type": "markdown",
   "metadata": {},
   "source": [
    "### 3) дерево"
   ]
  },
  {
   "cell_type": "code",
   "execution_count": 91,
   "metadata": {},
   "outputs": [
    {
     "name": "stdout",
     "output_type": "stream",
     "text": [
      "Fitting 10 folds for each of 720 candidates, totalling 7200 fits\n"
     ]
    },
    {
     "name": "stderr",
     "output_type": "stream",
     "text": [
      "[Parallel(n_jobs=-1)]: Using backend LokyBackend with 8 concurrent workers.\n",
      "[Parallel(n_jobs=-1)]: Done   2 tasks      | elapsed:    0.7s\n",
      "[Parallel(n_jobs=-1)]: Done   9 tasks      | elapsed:    0.8s\n",
      "[Parallel(n_jobs=-1)]: Done  16 tasks      | elapsed:    0.8s\n",
      "[Parallel(n_jobs=-1)]: Batch computation too fast (0.1732s.) Setting batch_size=2.\n",
      "[Parallel(n_jobs=-1)]: Done  25 tasks      | elapsed:    0.8s\n",
      "[Parallel(n_jobs=-1)]: Done  34 tasks      | elapsed:    0.9s\n",
      "[Parallel(n_jobs=-1)]: Batch computation too fast (0.1545s.) Setting batch_size=4.\n",
      "[Parallel(n_jobs=-1)]: Done  52 tasks      | elapsed:    1.0s\n",
      "[Parallel(n_jobs=-1)]: Batch computation too fast (0.1130s.) Setting batch_size=14.\n",
      "[Parallel(n_jobs=-1)]: Done  78 tasks      | elapsed:    1.1s\n",
      "[Parallel(n_jobs=-1)]: Done 130 tasks      | elapsed:    1.2s\n",
      "[Parallel(n_jobs=-1)]: Done 302 tasks      | elapsed:    1.7s\n",
      "[Parallel(n_jobs=-1)]: Done 512 tasks      | elapsed:    2.1s\n",
      "[Parallel(n_jobs=-1)]: Done 722 tasks      | elapsed:    2.6s\n",
      "[Parallel(n_jobs=-1)]: Done 960 tasks      | elapsed:    3.0s\n",
      "[Parallel(n_jobs=-1)]: Done 1198 tasks      | elapsed:    3.4s\n",
      "[Parallel(n_jobs=-1)]: Done 1464 tasks      | elapsed:    3.9s\n",
      "[Parallel(n_jobs=-1)]: Done 1730 tasks      | elapsed:    4.4s\n",
      "[Parallel(n_jobs=-1)]: Done 2024 tasks      | elapsed:    4.9s\n",
      "[Parallel(n_jobs=-1)]: Done 2318 tasks      | elapsed:    5.6s\n",
      "[Parallel(n_jobs=-1)]: Done 2640 tasks      | elapsed:    6.1s\n",
      "[Parallel(n_jobs=-1)]: Done 2962 tasks      | elapsed:    6.8s\n",
      "[Parallel(n_jobs=-1)]: Done 3312 tasks      | elapsed:    7.5s\n",
      "[Parallel(n_jobs=-1)]: Done 3662 tasks      | elapsed:    8.1s\n",
      "[Parallel(n_jobs=-1)]: Done 4040 tasks      | elapsed:    8.9s\n",
      "[Parallel(n_jobs=-1)]: Done 4418 tasks      | elapsed:    9.6s\n",
      "[Parallel(n_jobs=-1)]: Done 4824 tasks      | elapsed:   10.4s\n",
      "[Parallel(n_jobs=-1)]: Done 5230 tasks      | elapsed:   11.4s\n",
      "[Parallel(n_jobs=-1)]: Done 5664 tasks      | elapsed:   12.3s\n",
      "[Parallel(n_jobs=-1)]: Done 6098 tasks      | elapsed:   13.1s\n",
      "[Parallel(n_jobs=-1)]: Done 6560 tasks      | elapsed:   14.1s\n",
      "[Parallel(n_jobs=-1)]: Done 7200 out of 7200 | elapsed:   15.3s finished\n"
     ]
    },
    {
     "data": {
      "text/plain": [
       "GridSearchCV(cv=ShuffleSplit(n_splits=10, random_state=None, test_size=0.2, train_size=None),\n",
       "       error_score='raise-deprecating',\n",
       "       estimator=DecisionTreeClassifier(class_weight=None, criterion='gini', max_depth=None,\n",
       "            max_features=None, max_leaf_nodes=None,\n",
       "            min_impurity_decrease=0.0, min_impurity_split=None,\n",
       "            min_samples_leaf=1, min_samples_split=2,\n",
       "            min_weight_fraction_leaf=0.0, presort=False, random_state=None,\n",
       "            splitter='best'),\n",
       "       fit_params=None, iid='warn', n_jobs=-1,\n",
       "       param_grid=[{'random_state': array([42]), 'max_depth': array([None, 10, 50, 100, 500, 1000, 5000, 10000], dtype=object), 'min_samples_split': array([ 2,  3,  4,  5,  6,  7,  8,  9, 10]), 'min_samples_leaf': array([ 1,  2,  3,  4,  5,  6,  7,  8,  9, 10])}],\n",
       "       pre_dispatch='2*n_jobs', refit=True, return_train_score='warn',\n",
       "       scoring='accuracy', verbose=10)"
      ]
     },
     "execution_count": 91,
     "metadata": {},
     "output_type": "execute_result"
    }
   ],
   "source": [
    "parameters = [{'random_state': np.array([state]),\n",
    "               'max_depth': np.array([None, 10, 50, 100, 500, 1000, 5000, 10000]),\n",
    "               'min_samples_split': np.array(range(2, 11)),\n",
    "               'min_samples_leaf': np.array(range(1, 11))\n",
    "              }]\n",
    "tree_grid = GridSearchCV(DecisionTreeClassifier(), parameters, cv=ShuffleSplit(n_splits=10, test_size=0.2), scoring='accuracy', \n",
    "                         n_jobs=-1, \n",
    "                         verbose=10\n",
    "                        )\n",
    "tree_grid.fit(XC_n, yC.values.ravel())"
   ]
  },
  {
   "cell_type": "code",
   "execution_count": 92,
   "metadata": {},
   "outputs": [
    {
     "data": {
      "text/plain": [
       "DecisionTreeClassifier(class_weight=None, criterion='gini', max_depth=None,\n",
       "            max_features=None, max_leaf_nodes=None,\n",
       "            min_impurity_decrease=0.0, min_impurity_split=None,\n",
       "            min_samples_leaf=1, min_samples_split=2,\n",
       "            min_weight_fraction_leaf=0.0, presort=False, random_state=42,\n",
       "            splitter='best')"
      ]
     },
     "execution_count": 92,
     "metadata": {},
     "output_type": "execute_result"
    }
   ],
   "source": [
    "tree_grid.best_estimator_"
   ]
  },
  {
   "cell_type": "code",
   "execution_count": 94,
   "metadata": {},
   "outputs": [
    {
     "data": {
      "text/plain": [
       "0.5975"
      ]
     },
     "execution_count": 94,
     "metadata": {},
     "output_type": "execute_result"
    }
   ],
   "source": [
    "tree_grid.best_score_"
   ]
  },
  {
   "cell_type": "code",
   "execution_count": 95,
   "metadata": {},
   "outputs": [
    {
     "data": {
      "text/plain": [
       "{'max_depth': None,\n",
       " 'min_samples_leaf': 1,\n",
       " 'min_samples_split': 2,\n",
       " 'random_state': 42}"
      ]
     },
     "execution_count": 95,
     "metadata": {},
     "output_type": "execute_result"
    }
   ],
   "source": [
    "tree_grid.best_params_"
   ]
  },
  {
   "cell_type": "markdown",
   "metadata": {},
   "source": [
    "### Обучим снова с найденными оптимальными гиперпараметрами"
   ]
  },
  {
   "cell_type": "code",
   "execution_count": 88,
   "metadata": {},
   "outputs": [
    {
     "name": "stdout",
     "output_type": "stream",
     "text": [
      "Accuracy (train): 52.61923377638781 %\n",
      "Accuracy (test): 48.4375 %\n",
      "New accuracy (train): 55.355746677091474 %\n",
      "New accuracy (test): 50.625 %\n"
     ]
    }
   ],
   "source": [
    "lsvc_grid.best_estimator_.fit(xTrainC, yTrainC.values.ravel())\n",
    "\n",
    "yPredictedCTrainNew = lsvc_grid.best_estimator_.predict(xTrainC)\n",
    "yPredictedCTestNew = lsvc_grid.best_estimator_.predict(xTestC)\n",
    "\n",
    "print('Accuracy (train): {} %'.format(accuracy_score(yTrainC, yPredictedCTrain) * 100))\n",
    "print('Accuracy (test): {} %'.format(accuracy_score(yTestC, yPredictedCTest) * 100))\n",
    "\n",
    "print('New accuracy (train): {} %'.format(accuracy_score(yTrainC, yPredictedCTrainNew) * 100))\n",
    "print('New accuracy (test): {} %'.format(accuracy_score(yTestC, yPredictedCTestNew) * 100))"
   ]
  },
  {
   "cell_type": "code",
   "execution_count": 97,
   "metadata": {},
   "outputs": [
    {
     "name": "stdout",
     "output_type": "stream",
     "text": [
      "Accuracy (train): 100.0 %\n",
      "Accuracy (test): 60.9375 %\n",
      "New accuracy (train): 100.0 %\n",
      "New accuracy (test): 60.9375 %\n"
     ]
    }
   ],
   "source": [
    "tree_grid.best_estimator_.fit(xTrainC, yTrainC.values.ravel())\n",
    "\n",
    "yTreePredictedTrainNew = tree_grid.best_estimator_.predict(xTrainC)\n",
    "yTreePredictedTestNew = tree_grid.best_estimator_.predict(xTestC)\n",
    "\n",
    "print('Accuracy (train): {} %'.format(accuracy_score(yTrainC, yTreePredictedTrain) * 100))\n",
    "print('Accuracy (test): {} %'.format(accuracy_score(yTestC, yTreePredictedTest) * 100))\n",
    "\n",
    "print('New accuracy (train): {} %'.format(accuracy_score(yTrainC, yTreePredictedTrainNew) * 100))\n",
    "print('New accuracy (test): {} %'.format(accuracy_score(yTestC, yTreePredictedTestNew) * 100))"
   ]
  },
  {
   "cell_type": "markdown",
   "metadata": {},
   "source": [
    "так как дефолтные параметры и оказались оптимальными"
   ]
  },
  {
   "cell_type": "code",
   "execution_count": null,
   "metadata": {},
   "outputs": [],
   "source": []
  }
 ],
 "metadata": {
  "kernelspec": {
   "display_name": "Python 3",
   "language": "python",
   "name": "python3"
  },
  "language_info": {
   "codemirror_mode": {
    "name": "ipython",
    "version": 3
   },
   "file_extension": ".py",
   "mimetype": "text/x-python",
   "name": "python",
   "nbconvert_exporter": "python",
   "pygments_lexer": "ipython3",
   "version": "3.7.3"
  }
 },
 "nbformat": 4,
 "nbformat_minor": 2
}
